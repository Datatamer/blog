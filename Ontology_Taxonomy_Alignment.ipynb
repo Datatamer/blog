{
 "cells": [
  {
   "cell_type": "markdown",
   "metadata": {},
   "source": [
    "# Aligning Taxonomies of Disparate Datasets using Ontologies\n",
    "## ODSC Webinar April 27, 2021\n",
    "### Elizabeth Michel\n",
    "\n",
    "Resources:\n",
    " * [OpenLibrary API](https://openlibrary.org/dev/docs/api/books)\n",
    " * [CWRC Ontology](http://sparql.cwrc.ca/)\n",
    " * [GoodReads Books Dataset](https://www.kaggle.com/jealousleopard/goodreadsbooks?select=books.csv)\n",
    " * [Amazon Reviews Dataset](http://snap.stanford.edu/data/web-Amazon-links.html)\n",
    " * [Pre-trained Wikipedia Doc2Vec Model](https://github.com/jhlau/doc2vec)"
   ]
  },
  {
   "cell_type": "code",
   "execution_count": null,
   "metadata": {},
   "outputs": [],
   "source": [
    "import pandas as pd\n",
    "import numpy as np\n",
    "from treelib import Node, Tree\n",
    "import string\n",
    "from owlready2 import *\n",
    "from neo4j import GraphDatabase\n",
    "import itertools\n",
    "from tqdm import tqdm\n",
    "import re\n",
    "import nltk\n",
    "from nltk.stem import WordNetLemmatizer \n",
    "from nltk.corpus import wordnet\n",
    "from nltk.tokenize import word_tokenize\n",
    "from textblob import TextBlob, Word\n",
    "import pattern\n",
    "from pattern.en import lemma, lexeme\n",
    "from gensim.models.doc2vec import Doc2Vec, TaggedDocument\n",
    "import smart_open\n",
    "smart_open.open = smart_open.smart_open\n",
    "import gensim.models as gensim\n",
    "import codecs\n",
    "import scipy\n",
    "import matplotlib.pyplot as plt\n",
    "import math\n",
    "nltk.download('wordnet')\n",
    "nltk.download('punkt')\n",
    "nltk.download('averaged_perceptron_tagger')"
   ]
  },
  {
   "cell_type": "markdown",
   "metadata": {},
   "source": [
    "## Datasets"
   ]
  },
  {
   "cell_type": "code",
   "execution_count": 7,
   "metadata": {},
   "outputs": [],
   "source": [
    "az = pd.read_csv(\"Datasets/amazon_data_extracted.csv\")\n",
    "gr = pd.read_csv(\"Datasets/goodreads_books.csv\")\n",
    "on = pd.read_csv(\"Datasets/ontology_taxonomy.csv\")\n",
    "defs = pd.read_csv(\"Datasets/ontology_definitions.csv\")\n",
    "a_tax = pd.read_csv(\"Datasets/amazon_taxonomy.csv\")\n",
    "o_tax = pd.read_csv(\"Datasets/ontology_taxonomy.csv\")\n",
    "g_tax = pd.read_csv(\"Datasets/goodreads_taxonomy.csv\")"
   ]
  },
  {
   "cell_type": "markdown",
   "metadata": {},
   "source": [
    "## Visualize Taxonomies"
   ]
  },
  {
   "cell_type": "code",
   "execution_count": 9,
   "metadata": {
    "scrolled": true
   },
   "outputs": [],
   "source": [
    "def build_tree(df,root_name):\n",
    "    tree = Tree()\n",
    "    tree.create_node(root_name,0)\n",
    "    column_list = list(df.columns)\n",
    "    for i, c in df.iterrows():\n",
    "        node_id_list = []\n",
    "        node_name_list = []\n",
    "        for col in column_list:\n",
    "            if type(c[col]) != float:\n",
    "                node_id_list.append(c[col].replace(\" \",\"\").replace(\"&\",\"\").replace(\",\",\"\").lower())\n",
    "                node_name_list.append(c[col])\n",
    "            else:\n",
    "                node_id_list.append(\"\")\n",
    "                node_name_list.append(\"\")\n",
    "        if node_id_list[0] != \"\":\n",
    "            if tree.get_node(node_id_list[0]) == None:\n",
    "                tree.create_node(node_name_list[0],node_id_list[0],parent=0)\n",
    "        for i in range(1,len(node_id_list)):\n",
    "            if node_id_list[i] != \"\":\n",
    "                if tree.get_node(node_id_list[i]) == None:\n",
    "                    tree.create_node(node_name_list[i],node_id_list[i],parent=node_id_list[i-1])\n",
    "    return tree"
   ]
  },
  {
   "cell_type": "markdown",
   "metadata": {},
   "source": [
    "#### Build and visualize Amazon taxonomy tree"
   ]
  },
  {
   "cell_type": "code",
   "execution_count": 10,
   "metadata": {
    "scrolled": true
   },
   "outputs": [],
   "source": [
    "tree_az = build_tree(az[['tier_1','tier_2','tier_3','tier_4','tier_5','tier_6']].drop_duplicates(),\"amazon\")\n",
    "#tree_az.show()"
   ]
  },
  {
   "cell_type": "markdown",
   "metadata": {},
   "source": [
    "#### Build and visualize GoodReads taxonomy tree"
   ]
  },
  {
   "cell_type": "code",
   "execution_count": 11,
   "metadata": {},
   "outputs": [],
   "source": [
    "tree_gr = build_tree(gr.drop(columns=['title']).drop_duplicates(),\"goodreads\")\n",
    "#tree_gr.show()"
   ]
  },
  {
   "cell_type": "markdown",
   "metadata": {},
   "source": [
    "#### Build and visualize CWRC Ontology taxonomy tree of genres"
   ]
  },
  {
   "cell_type": "code",
   "execution_count": 12,
   "metadata": {},
   "outputs": [],
   "source": [
    "tree_on = build_tree(on,\"ontology\")\n",
    "#tree_on.show()"
   ]
  },
  {
   "cell_type": "markdown",
   "metadata": {},
   "source": [
    "##  Amazon / Ontology Answer Key\n",
    "#### { Amazon Genre tier_1 } = Ontology Genre"
   ]
  },
  {
   "cell_type": "code",
   "execution_count": 13,
   "metadata": {},
   "outputs": [],
   "source": [
    "az_key_dict = {}\n",
    "\n",
    "az_key_dict['Education & Reference'] = \"DidacticGenre\"\n",
    "az_key_dict['Self-Help'] = \"DidacticGenre\"\n",
    "az_key_dict['History'] = \"HistoricalGenre\"\n",
    "az_key_dict['Travel'] = \"ReferenceWorkGenre\"\n",
    "az_key_dict['Crafts'] = \"ReferenceWorkGenre\"\n",
    "az_key_dict['Medical Books'] = \"ReferenceWorkGenre\"\n",
    "az_key_dict['Cookbooks'] = \"ReferenceWorkGenre\"\n",
    "az_key_dict['Arts & Photography'] = \"ReferenceWorkGenre\"\n",
    "az_key_dict['Parenting & Relationships'] = \"ReferenceWorkGenre\"\n",
    "az_key_dict['Health'] = \"ReferenceWorkGenre\"\n",
    "az_key_dict['Business & Investing'] = \"PedagogicalGenre\"\n",
    "az_key_dict['Professional & Technical'] = \"PedagogicalGenre\"\n",
    "az_key_dict['Science & Math'] = \"PedagogicalGenre\"\n",
    "az_key_dict['Computers & Technology'] = \"PedagogicalGenre\"\n",
    "az_key_dict['Law'] = \"PedagogicalGenre\"\n",
    "az_key_dict['Politics & Social Sciences'] = \"SocialScienceGenre\"\n",
    "az_key_dict[\"Children's Books\"] = \"ChildrensLiteratureGenre\"\n",
    "az_key_dict['Teens'] = \"ChildrensLiteratureGenre\"\n",
    "az_key_dict['Humor & Entertainment'] = \"ComedicGenre\"\n",
    "az_key_dict['Science Fiction & Fantasy'] = \"FictionalGenre\"\n",
    "az_key_dict['Literature & Fiction'] = \"NovelisticGenre\"\n",
    "az_key_dict['Biographies & Memoirs'] = \"LifeWritingGenre\"\n",
    "az_key_dict['Christian Books & Bibles'] = \"ReligiousGenre\"\n",
    "az_key_dict['Religion & Spirituality'] = \"ReligiousGenre\"\n",
    "az_key_dict['Romance'] = \"RomanceGenre\"\n",
    "az_key_dict['Gay & Lesbian'] = \"LGBTQPlusGenre\"\n",
    "az_key_dict['Mystery'] = \"MysteryGenre\"\n",
    "az_key_dict['Calendars'] = \"InformationalGenre\""
   ]
  },
  {
   "cell_type": "markdown",
   "metadata": {},
   "source": [
    "#### Answer Key as Tuples"
   ]
  },
  {
   "cell_type": "code",
   "execution_count": 14,
   "metadata": {},
   "outputs": [],
   "source": [
    "az_key_tuples = [(\"Education & Reference\",\"ReferenceWorkGenre\"),\n",
    "                (\"Self-Help\",\"DidacticGenre\"),\n",
    "                (\"History\",\"HistoricalGenre\"),\n",
    "                (\"Travel\",\"ReferenceWorkGenre\"),\n",
    "                (\"Crafts\",\"ReferenceWorkGenre\"),\n",
    "                (\"Medical Books\",\"ScholarlyGenre\"),\n",
    "                (\"Cookbooks\",\"ReferenceWorkGenre\"),\n",
    "                (\"Arts & Photography\",\"ReferenceWorkGenre\"),\n",
    "                (\"Parenting & Relationships\",\"ReferenceWorkGenre\"),\n",
    "                (\"Health\",\"ReferenceWorkGenre\"),\n",
    "                (\"Business & Investing\",\"PedagogicalGenre\"),\n",
    "                (\"Professional & Technical\",\"PedagogicalGenre\"),\n",
    "                (\"Science & Math\",\"PedagogicalGenre\"),\n",
    "                (\"Computers & Technology\",\"PedagogicalGenre\"),\n",
    "                (\"Law\",\"PoliticalGenre\"),\n",
    "                (\"Politics & Social Sciences\",\"SocialScienceGenre\"),\n",
    "                (\"Children's Books\",\"ChildrensLiteratureGenre\"),\n",
    "                (\"Teens\",\"ChildrensLiteratureGenre\"),\n",
    "                (\"Humor & Entertainment\",\"ComedicGenre\"),\n",
    "                (\"Science Fiction & Fantasy\",\"FictionalGenre\"),\n",
    "                (\"Literature & Fiction\",\"LiteraryGenre\"),\n",
    "                (\"Biographies & Memoirs\",\"LifeWritingGenre\"),\n",
    "                (\"Christian Books & Bibles\",\"ReligiousGenre\"),\n",
    "                (\"Romance\",\"RomanceGenre\"),\n",
    "                (\"Gay & Lesbian\",\"LGBTQPlusGenre\"),\n",
    "                (\"Mystery\",\"MysteryGenre\"),\n",
    "                (\"Calendars\",\"InformationalGenre\"),\n",
    "                ('Religion & Spirituality', 'ReligiousGenre'),\n",
    "                ('Comics & Graphic Novels', 'LiteraryGenre')]"
   ]
  },
  {
   "cell_type": "markdown",
   "metadata": {},
   "source": [
    "## Taxonomy Alignment Prediction"
   ]
  },
  {
   "cell_type": "markdown",
   "metadata": {},
   "source": [
    "### Synonyms"
   ]
  },
  {
   "cell_type": "code",
   "execution_count": 15,
   "metadata": {},
   "outputs": [],
   "source": [
    "def wordnet_synonyms(word):\n",
    "    synonyms = []\n",
    "    for syn in wordnet.synsets(word):\n",
    "        for lm in syn.lemmas():\n",
    "            synonyms.append(lm.name())\n",
    "    syn_dedup = []\n",
    "    [syn_dedup.append(x) for x in synonyms if x not in syn_dedup]\n",
    "    return syn_dedup\n",
    "\n",
    "# amazon vs. ontology\n",
    "def list_categories(df):\n",
    "    cats = []\n",
    "    for i in range(0,len(df)):\n",
    "        for column in list(df.columns):\n",
    "            if (not df.loc[i,column] in cats) and (type(df.loc[i,column])==str):\n",
    "                cats.append(df.loc[i,column])\n",
    "    return cats\n",
    "\n",
    "# lemmatizer = WordNetLemmatizer()\n",
    "\n",
    "# def list_lemmatizer(list_to_lemmatize):\n",
    "#     return [lemmatizer.lemmatize(wd,\"n\") for wd in list_to_lemmatize]\n",
    "\n",
    "# def word_lemmatizer(word):\n",
    "#     return lemmatizer.lemmatize(word,\"n\")"
   ]
  },
  {
   "cell_type": "markdown",
   "metadata": {},
   "source": [
    "#### Extract words from titles"
   ]
  },
  {
   "cell_type": "code",
   "execution_count": 16,
   "metadata": {
    "scrolled": true
   },
   "outputs": [
    {
     "name": "stdout",
     "output_type": "stream",
     "text": [
      "Example\n",
      "  word_dict['ReferenceWorkGenre']: ['reference', 'work']\n"
     ]
    }
   ],
   "source": [
    "# dictionary of all category titles ('PoliticalGenre') to a list of their words (['Political'])\n",
    "word_dict = {}\n",
    "\n",
    "# ontology words\n",
    "for i in range(0,len(o_tax)):\n",
    "    for column in list(o_tax.columns):\n",
    "        if type(o_tax.loc[i,column])==str:\n",
    "            genre = o_tax.loc[i,column].replace(\"Genre\",\"\")\n",
    "            word_dict[o_tax.loc[i,column]] = [ wd.lower() for wd in re.findall('[A-Z][^A-Z]*',genre) ]\n",
    "\n",
    "# amazon words\n",
    "for i in range(0,len(a_tax)):\n",
    "    genre_words = a_tax.loc[i,'tier_1'].replace(\"& \",\"\").replace(\"  \",\" \").rstrip().lstrip().split(\" \")\n",
    "    word_dict[a_tax.loc[i,'tier_1']] = genre_words\n",
    "\n",
    "for i in range(0,len(g_tax)):\n",
    "\n",
    "    if type(g_tax.loc[i,\"tier_1\"])==str:\n",
    "        genre = g_tax.loc[i,\"tier_1\"]\n",
    "        genre_words = [re.sub(r'[^\\w\\s]', '', word) for word in genre.split(\" \")]\n",
    "        word_dict[g_tax.loc[i,\"tier_1\"]] = [ wd.lower() for wd in genre_words ]\n",
    "\n",
    "print(\"Example\\n  word_dict['ReferenceWorkGenre']: \"+str(word_dict['ReferenceWorkGenre']))"
   ]
  },
  {
   "cell_type": "code",
   "execution_count": 17,
   "metadata": {},
   "outputs": [],
   "source": [
    "g_tax.loc[:,'tier_1'] = g_tax.loc[:,'tier_1'].apply(lambda x: \"\" if isinstance(x, np.float64) else x)"
   ]
  },
  {
   "cell_type": "code",
   "execution_count": 18,
   "metadata": {},
   "outputs": [],
   "source": [
    "word_dict['LGBTQPlusGenre'] = ['lesbian', 'gay', 'bisexual', 'transexual', 'queer', 'plus']"
   ]
  },
  {
   "cell_type": "markdown",
   "metadata": {},
   "source": [
    "#### List Categories"
   ]
  },
  {
   "cell_type": "code",
   "execution_count": 19,
   "metadata": {},
   "outputs": [
    {
     "name": "stdout",
     "output_type": "stream",
     "text": [
      "o_cats: ['PoliticalGenre', 'MusicalGenre', 'InformationalGenre', 'ThematicGenre', 'IntertextualGenre']\n",
      "g_cats: ['orphans', \"Children's Books/Ages 9-12 Fiction\", 'Fantasy fiction', 'fantasy fiction', 'Potter, harry (fictitious character), fiction']\n",
      "a_cats: ['Literature & Fiction', 'Science Fiction & Fantasy', 'Business & Investing', 'Biographies & Memoirs', 'Health']\n"
     ]
    }
   ],
   "source": [
    "syn_sym_scores = {}\n",
    "o_cats = list_categories(o_tax)\n",
    "#g_cats = list_categories(g_tax)\n",
    "g_cats = list(g_tax.tier_1.unique())\n",
    "a_cats = [word.lstrip().rstrip() for word in list(a_tax.tier_1.unique())]\n",
    "print(\"o_cats: \"+str(o_cats[:5]))\n",
    "print(\"g_cats: \"+str(g_cats[:5]))\n",
    "print(\"a_cats: \"+str(a_cats[:5]))"
   ]
  },
  {
   "cell_type": "markdown",
   "metadata": {},
   "source": [
    "#### Build dataframes to hold scores"
   ]
  },
  {
   "cell_type": "markdown",
   "metadata": {},
   "source": [
    "Amazon"
   ]
  },
  {
   "cell_type": "code",
   "execution_count": 20,
   "metadata": {},
   "outputs": [],
   "source": [
    "ontology_vs_amazon = pd.DataFrame(columns=['ontology_genre','amazon_genre'])\n",
    "for ocat in o_cats:\n",
    "    for acat in a_cats:\n",
    "        if (type(ocat)==str) and (type(acat)==str):\n",
    "            df_temp = pd.DataFrame(data=[[ocat,acat]],columns=['ontology_genre','amazon_genre'])\n",
    "            ontology_vs_amazon = ontology_vs_amazon.append(df_temp)\n",
    "ontology_vs_amazon = ontology_vs_amazon.reset_index().drop(columns=['index'])"
   ]
  },
  {
   "cell_type": "markdown",
   "metadata": {},
   "source": [
    "GoodReads"
   ]
  },
  {
   "cell_type": "code",
   "execution_count": 21,
   "metadata": {},
   "outputs": [],
   "source": [
    "ontology_vs_goodreads = pd.DataFrame(columns=['ontology_genre','goodreads_genre'])\n",
    "for ocat in o_cats:\n",
    "    for gcat in g_cats:\n",
    "        df_temp = pd.DataFrame(data=[[ocat,gcat]],columns=['ontology_genre','goodreads_genre'])\n",
    "        ontology_vs_goodreads = ontology_vs_goodreads.append(df_temp)\n",
    "ontology_vs_goodreads = ontology_vs_goodreads.reset_index().drop(columns=['index'])"
   ]
  },
  {
   "cell_type": "code",
   "execution_count": 22,
   "metadata": {},
   "outputs": [],
   "source": [
    "ontology_vs_goodreads.loc[:,'goodreads_genre'] = ontology_vs_goodreads.loc[:,'goodreads_genre'].apply(lambda x: \"\" \n",
    "                                                                                        if type(x)==float else x)"
   ]
  },
  {
   "cell_type": "code",
   "execution_count": 23,
   "metadata": {},
   "outputs": [],
   "source": [
    "ontology_vs_goodreads = ontology_vs_goodreads[ontology_vs_goodreads['goodreads_genre']!=\"\"]\n",
    "ontology_vs_goodreads = ontology_vs_goodreads.reset_index().drop(columns=['index'])"
   ]
  },
  {
   "cell_type": "markdown",
   "metadata": {},
   "source": [
    "### Synonym Similarity Scoring"
   ]
  },
  {
   "cell_type": "code",
   "execution_count": 25,
   "metadata": {
    "collapsed": true
   },
   "outputs": [
    {
     "ename": "KeyboardInterrupt",
     "evalue": "",
     "output_type": "error",
     "traceback": [
      "\u001b[0;31m---------------------------------------------------------------------------\u001b[0m",
      "\u001b[0;31mKeyboardInterrupt\u001b[0m                         Traceback (most recent call last)",
      "\u001b[0;32m<ipython-input-25-3bbaa1067fb9>\u001b[0m in \u001b[0;36m<module>\u001b[0;34m\u001b[0m\n\u001b[1;32m     15\u001b[0m                                                      score_similarity(x.ontology_genre, x.amazon_genre), axis=1)\n\u001b[1;32m     16\u001b[0m \u001b[0;31m# goodreads\u001b[0m\u001b[0;34m\u001b[0m\u001b[0;34m\u001b[0m\u001b[0;34m\u001b[0m\u001b[0m\n\u001b[0;32m---> 17\u001b[0;31m ontology_vs_goodreads['synonym_similarity'] = ontology_vs_goodreads.apply(lambda x: \n\u001b[0m\u001b[1;32m     18\u001b[0m                                                      score_similarity(x.ontology_genre, x.goodreads_genre), axis=1)\n",
      "\u001b[0;32m/opt/anaconda3/lib/python3.8/site-packages/pandas/core/frame.py\u001b[0m in \u001b[0;36mapply\u001b[0;34m(self, func, axis, raw, result_type, args, **kwds)\u001b[0m\n\u001b[1;32m   7546\u001b[0m             \u001b[0mkwds\u001b[0m\u001b[0;34m=\u001b[0m\u001b[0mkwds\u001b[0m\u001b[0;34m,\u001b[0m\u001b[0;34m\u001b[0m\u001b[0;34m\u001b[0m\u001b[0m\n\u001b[1;32m   7547\u001b[0m         )\n\u001b[0;32m-> 7548\u001b[0;31m         \u001b[0;32mreturn\u001b[0m \u001b[0mop\u001b[0m\u001b[0;34m.\u001b[0m\u001b[0mget_result\u001b[0m\u001b[0;34m(\u001b[0m\u001b[0;34m)\u001b[0m\u001b[0;34m\u001b[0m\u001b[0;34m\u001b[0m\u001b[0m\n\u001b[0m\u001b[1;32m   7549\u001b[0m \u001b[0;34m\u001b[0m\u001b[0m\n\u001b[1;32m   7550\u001b[0m     \u001b[0;32mdef\u001b[0m \u001b[0mapplymap\u001b[0m\u001b[0;34m(\u001b[0m\u001b[0mself\u001b[0m\u001b[0;34m,\u001b[0m \u001b[0mfunc\u001b[0m\u001b[0;34m)\u001b[0m \u001b[0;34m->\u001b[0m \u001b[0;34m\"DataFrame\"\u001b[0m\u001b[0;34m:\u001b[0m\u001b[0;34m\u001b[0m\u001b[0;34m\u001b[0m\u001b[0m\n",
      "\u001b[0;32m/opt/anaconda3/lib/python3.8/site-packages/pandas/core/apply.py\u001b[0m in \u001b[0;36mget_result\u001b[0;34m(self)\u001b[0m\n\u001b[1;32m    178\u001b[0m             \u001b[0;32mreturn\u001b[0m \u001b[0mself\u001b[0m\u001b[0;34m.\u001b[0m\u001b[0mapply_raw\u001b[0m\u001b[0;34m(\u001b[0m\u001b[0;34m)\u001b[0m\u001b[0;34m\u001b[0m\u001b[0;34m\u001b[0m\u001b[0m\n\u001b[1;32m    179\u001b[0m \u001b[0;34m\u001b[0m\u001b[0m\n\u001b[0;32m--> 180\u001b[0;31m         \u001b[0;32mreturn\u001b[0m \u001b[0mself\u001b[0m\u001b[0;34m.\u001b[0m\u001b[0mapply_standard\u001b[0m\u001b[0;34m(\u001b[0m\u001b[0;34m)\u001b[0m\u001b[0;34m\u001b[0m\u001b[0;34m\u001b[0m\u001b[0m\n\u001b[0m\u001b[1;32m    181\u001b[0m \u001b[0;34m\u001b[0m\u001b[0m\n\u001b[1;32m    182\u001b[0m     \u001b[0;32mdef\u001b[0m \u001b[0mapply_empty_result\u001b[0m\u001b[0;34m(\u001b[0m\u001b[0mself\u001b[0m\u001b[0;34m)\u001b[0m\u001b[0;34m:\u001b[0m\u001b[0;34m\u001b[0m\u001b[0;34m\u001b[0m\u001b[0m\n",
      "\u001b[0;32m/opt/anaconda3/lib/python3.8/site-packages/pandas/core/apply.py\u001b[0m in \u001b[0;36mapply_standard\u001b[0;34m(self)\u001b[0m\n\u001b[1;32m    269\u001b[0m \u001b[0;34m\u001b[0m\u001b[0m\n\u001b[1;32m    270\u001b[0m     \u001b[0;32mdef\u001b[0m \u001b[0mapply_standard\u001b[0m\u001b[0;34m(\u001b[0m\u001b[0mself\u001b[0m\u001b[0;34m)\u001b[0m\u001b[0;34m:\u001b[0m\u001b[0;34m\u001b[0m\u001b[0;34m\u001b[0m\u001b[0m\n\u001b[0;32m--> 271\u001b[0;31m         \u001b[0mresults\u001b[0m\u001b[0;34m,\u001b[0m \u001b[0mres_index\u001b[0m \u001b[0;34m=\u001b[0m \u001b[0mself\u001b[0m\u001b[0;34m.\u001b[0m\u001b[0mapply_series_generator\u001b[0m\u001b[0;34m(\u001b[0m\u001b[0;34m)\u001b[0m\u001b[0;34m\u001b[0m\u001b[0;34m\u001b[0m\u001b[0m\n\u001b[0m\u001b[1;32m    272\u001b[0m \u001b[0;34m\u001b[0m\u001b[0m\n\u001b[1;32m    273\u001b[0m         \u001b[0;31m# wrap results\u001b[0m\u001b[0;34m\u001b[0m\u001b[0;34m\u001b[0m\u001b[0;34m\u001b[0m\u001b[0m\n",
      "\u001b[0;32m/opt/anaconda3/lib/python3.8/site-packages/pandas/core/apply.py\u001b[0m in \u001b[0;36mapply_series_generator\u001b[0;34m(self)\u001b[0m\n\u001b[1;32m    298\u001b[0m                 \u001b[0;32mfor\u001b[0m \u001b[0mi\u001b[0m\u001b[0;34m,\u001b[0m \u001b[0mv\u001b[0m \u001b[0;32min\u001b[0m \u001b[0menumerate\u001b[0m\u001b[0;34m(\u001b[0m\u001b[0mseries_gen\u001b[0m\u001b[0;34m)\u001b[0m\u001b[0;34m:\u001b[0m\u001b[0;34m\u001b[0m\u001b[0;34m\u001b[0m\u001b[0m\n\u001b[1;32m    299\u001b[0m                     \u001b[0;31m# ignore SettingWithCopy here in case the user mutates\u001b[0m\u001b[0;34m\u001b[0m\u001b[0;34m\u001b[0m\u001b[0;34m\u001b[0m\u001b[0m\n\u001b[0;32m--> 300\u001b[0;31m                     \u001b[0mresults\u001b[0m\u001b[0;34m[\u001b[0m\u001b[0mi\u001b[0m\u001b[0;34m]\u001b[0m \u001b[0;34m=\u001b[0m \u001b[0mself\u001b[0m\u001b[0;34m.\u001b[0m\u001b[0mf\u001b[0m\u001b[0;34m(\u001b[0m\u001b[0mv\u001b[0m\u001b[0;34m)\u001b[0m\u001b[0;34m\u001b[0m\u001b[0;34m\u001b[0m\u001b[0m\n\u001b[0m\u001b[1;32m    301\u001b[0m                     \u001b[0;32mif\u001b[0m \u001b[0misinstance\u001b[0m\u001b[0;34m(\u001b[0m\u001b[0mresults\u001b[0m\u001b[0;34m[\u001b[0m\u001b[0mi\u001b[0m\u001b[0;34m]\u001b[0m\u001b[0;34m,\u001b[0m \u001b[0mABCSeries\u001b[0m\u001b[0;34m)\u001b[0m\u001b[0;34m:\u001b[0m\u001b[0;34m\u001b[0m\u001b[0;34m\u001b[0m\u001b[0m\n\u001b[1;32m    302\u001b[0m                         \u001b[0;31m# If we have a view on v, we need to make a copy because\u001b[0m\u001b[0;34m\u001b[0m\u001b[0;34m\u001b[0m\u001b[0;34m\u001b[0m\u001b[0m\n",
      "\u001b[0;32m<ipython-input-25-3bbaa1067fb9>\u001b[0m in \u001b[0;36m<lambda>\u001b[0;34m(x)\u001b[0m\n\u001b[1;32m     16\u001b[0m \u001b[0;31m# goodreads\u001b[0m\u001b[0;34m\u001b[0m\u001b[0;34m\u001b[0m\u001b[0;34m\u001b[0m\u001b[0m\n\u001b[1;32m     17\u001b[0m ontology_vs_goodreads['synonym_similarity'] = ontology_vs_goodreads.apply(lambda x: \n\u001b[0;32m---> 18\u001b[0;31m                                                      score_similarity(x.ontology_genre, x.goodreads_genre), axis=1)\n\u001b[0m",
      "\u001b[0;32m/opt/anaconda3/lib/python3.8/site-packages/pandas/core/generic.py\u001b[0m in \u001b[0;36m__getattr__\u001b[0;34m(self, name)\u001b[0m\n\u001b[1;32m   5136\u001b[0m         \u001b[0;32melse\u001b[0m\u001b[0;34m:\u001b[0m\u001b[0;34m\u001b[0m\u001b[0;34m\u001b[0m\u001b[0m\n\u001b[1;32m   5137\u001b[0m             \u001b[0;32mif\u001b[0m \u001b[0mself\u001b[0m\u001b[0;34m.\u001b[0m\u001b[0m_info_axis\u001b[0m\u001b[0;34m.\u001b[0m\u001b[0m_can_hold_identifiers_and_holds_name\u001b[0m\u001b[0;34m(\u001b[0m\u001b[0mname\u001b[0m\u001b[0;34m)\u001b[0m\u001b[0;34m:\u001b[0m\u001b[0;34m\u001b[0m\u001b[0;34m\u001b[0m\u001b[0m\n\u001b[0;32m-> 5138\u001b[0;31m                 \u001b[0;32mreturn\u001b[0m \u001b[0mself\u001b[0m\u001b[0;34m[\u001b[0m\u001b[0mname\u001b[0m\u001b[0;34m]\u001b[0m\u001b[0;34m\u001b[0m\u001b[0;34m\u001b[0m\u001b[0m\n\u001b[0m\u001b[1;32m   5139\u001b[0m             \u001b[0;32mreturn\u001b[0m \u001b[0mobject\u001b[0m\u001b[0;34m.\u001b[0m\u001b[0m__getattribute__\u001b[0m\u001b[0;34m(\u001b[0m\u001b[0mself\u001b[0m\u001b[0;34m,\u001b[0m \u001b[0mname\u001b[0m\u001b[0;34m)\u001b[0m\u001b[0;34m\u001b[0m\u001b[0;34m\u001b[0m\u001b[0m\n\u001b[1;32m   5140\u001b[0m \u001b[0;34m\u001b[0m\u001b[0m\n",
      "\u001b[0;32m/opt/anaconda3/lib/python3.8/site-packages/pandas/core/series.py\u001b[0m in \u001b[0;36m__getitem__\u001b[0;34m(self, key)\u001b[0m\n\u001b[1;32m    880\u001b[0m \u001b[0;34m\u001b[0m\u001b[0m\n\u001b[1;32m    881\u001b[0m         \u001b[0;32melif\u001b[0m \u001b[0mkey_is_scalar\u001b[0m\u001b[0;34m:\u001b[0m\u001b[0;34m\u001b[0m\u001b[0;34m\u001b[0m\u001b[0m\n\u001b[0;32m--> 882\u001b[0;31m             \u001b[0;32mreturn\u001b[0m \u001b[0mself\u001b[0m\u001b[0;34m.\u001b[0m\u001b[0m_get_value\u001b[0m\u001b[0;34m(\u001b[0m\u001b[0mkey\u001b[0m\u001b[0;34m)\u001b[0m\u001b[0;34m\u001b[0m\u001b[0;34m\u001b[0m\u001b[0m\n\u001b[0m\u001b[1;32m    883\u001b[0m \u001b[0;34m\u001b[0m\u001b[0m\n\u001b[1;32m    884\u001b[0m         \u001b[0;32mif\u001b[0m \u001b[0mis_hashable\u001b[0m\u001b[0;34m(\u001b[0m\u001b[0mkey\u001b[0m\u001b[0;34m)\u001b[0m\u001b[0;34m:\u001b[0m\u001b[0;34m\u001b[0m\u001b[0;34m\u001b[0m\u001b[0m\n",
      "\u001b[0;32m/opt/anaconda3/lib/python3.8/site-packages/pandas/core/series.py\u001b[0m in \u001b[0;36m_get_value\u001b[0;34m(self, label, takeable)\u001b[0m\n\u001b[1;32m    987\u001b[0m \u001b[0;34m\u001b[0m\u001b[0m\n\u001b[1;32m    988\u001b[0m         \u001b[0;31m# Similar to Index.get_value, but we do not fall back to positional\u001b[0m\u001b[0;34m\u001b[0m\u001b[0;34m\u001b[0m\u001b[0;34m\u001b[0m\u001b[0m\n\u001b[0;32m--> 989\u001b[0;31m         \u001b[0mloc\u001b[0m \u001b[0;34m=\u001b[0m \u001b[0mself\u001b[0m\u001b[0;34m.\u001b[0m\u001b[0mindex\u001b[0m\u001b[0;34m.\u001b[0m\u001b[0mget_loc\u001b[0m\u001b[0;34m(\u001b[0m\u001b[0mlabel\u001b[0m\u001b[0;34m)\u001b[0m\u001b[0;34m\u001b[0m\u001b[0;34m\u001b[0m\u001b[0m\n\u001b[0m\u001b[1;32m    990\u001b[0m         \u001b[0;32mreturn\u001b[0m \u001b[0mself\u001b[0m\u001b[0;34m.\u001b[0m\u001b[0mindex\u001b[0m\u001b[0;34m.\u001b[0m\u001b[0m_get_values_for_loc\u001b[0m\u001b[0;34m(\u001b[0m\u001b[0mself\u001b[0m\u001b[0;34m,\u001b[0m \u001b[0mloc\u001b[0m\u001b[0;34m,\u001b[0m \u001b[0mlabel\u001b[0m\u001b[0;34m)\u001b[0m\u001b[0;34m\u001b[0m\u001b[0;34m\u001b[0m\u001b[0m\n\u001b[1;32m    991\u001b[0m \u001b[0;34m\u001b[0m\u001b[0m\n",
      "\u001b[0;32m/opt/anaconda3/lib/python3.8/site-packages/pandas/core/indexes/base.py\u001b[0m in \u001b[0;36mget_loc\u001b[0;34m(self, key, method, tolerance)\u001b[0m\n\u001b[1;32m   2891\u001b[0m                     \u001b[0;34m\"backfill or nearest lookups\"\u001b[0m\u001b[0;34m\u001b[0m\u001b[0;34m\u001b[0m\u001b[0m\n\u001b[1;32m   2892\u001b[0m                 )\n\u001b[0;32m-> 2893\u001b[0;31m             \u001b[0mcasted_key\u001b[0m \u001b[0;34m=\u001b[0m \u001b[0mself\u001b[0m\u001b[0;34m.\u001b[0m\u001b[0m_maybe_cast_indexer\u001b[0m\u001b[0;34m(\u001b[0m\u001b[0mkey\u001b[0m\u001b[0;34m)\u001b[0m\u001b[0;34m\u001b[0m\u001b[0;34m\u001b[0m\u001b[0m\n\u001b[0m\u001b[1;32m   2894\u001b[0m             \u001b[0;32mtry\u001b[0m\u001b[0;34m:\u001b[0m\u001b[0;34m\u001b[0m\u001b[0;34m\u001b[0m\u001b[0m\n\u001b[1;32m   2895\u001b[0m                 \u001b[0;32mreturn\u001b[0m \u001b[0mself\u001b[0m\u001b[0;34m.\u001b[0m\u001b[0m_engine\u001b[0m\u001b[0;34m.\u001b[0m\u001b[0mget_loc\u001b[0m\u001b[0;34m(\u001b[0m\u001b[0mcasted_key\u001b[0m\u001b[0;34m)\u001b[0m\u001b[0;34m\u001b[0m\u001b[0;34m\u001b[0m\u001b[0m\n",
      "\u001b[0;32m/opt/anaconda3/lib/python3.8/site-packages/pandas/core/indexes/base.py\u001b[0m in \u001b[0;36m_maybe_cast_indexer\u001b[0;34m(self, key)\u001b[0m\n\u001b[1;32m   4979\u001b[0m         \u001b[0mto\u001b[0m \u001b[0man\u001b[0m \u001b[0mint\u001b[0m \u001b[0;32mif\u001b[0m \u001b[0mequivalent\u001b[0m\u001b[0;34m.\u001b[0m\u001b[0;34m\u001b[0m\u001b[0;34m\u001b[0m\u001b[0m\n\u001b[1;32m   4980\u001b[0m         \"\"\"\n\u001b[0;32m-> 4981\u001b[0;31m         \u001b[0;32mif\u001b[0m \u001b[0;32mnot\u001b[0m \u001b[0mself\u001b[0m\u001b[0;34m.\u001b[0m\u001b[0mis_floating\u001b[0m\u001b[0;34m(\u001b[0m\u001b[0;34m)\u001b[0m\u001b[0;34m:\u001b[0m\u001b[0;34m\u001b[0m\u001b[0;34m\u001b[0m\u001b[0m\n\u001b[0m\u001b[1;32m   4982\u001b[0m             \u001b[0;32mreturn\u001b[0m \u001b[0mcom\u001b[0m\u001b[0;34m.\u001b[0m\u001b[0mcast_scalar_indexer\u001b[0m\u001b[0;34m(\u001b[0m\u001b[0mkey\u001b[0m\u001b[0;34m)\u001b[0m\u001b[0;34m\u001b[0m\u001b[0;34m\u001b[0m\u001b[0m\n\u001b[1;32m   4983\u001b[0m         \u001b[0;32mreturn\u001b[0m \u001b[0mkey\u001b[0m\u001b[0;34m\u001b[0m\u001b[0;34m\u001b[0m\u001b[0m\n",
      "\u001b[0;31mKeyboardInterrupt\u001b[0m: "
     ]
    }
   ],
   "source": [
    "def score_similarity(o_genre,book_genre):\n",
    "    o_synonyms = []\n",
    "    for wd in word_dict[o_genre]:\n",
    "        o_synonyms.append(wd)\n",
    "        o_synonyms.extend(wordnet_synonyms(wd))\n",
    "    a_g_synonyms = []\n",
    "    for wd in word_dict[book_genre]:\n",
    "        a_g_synonyms.append(wd)\n",
    "        a_g_synonyms.extend(wordnet_synonyms(wd))\n",
    "    score = len(set(o_synonyms) & set(a_g_synonyms)) / (len(o_synonyms)+len(a_g_synonyms))\n",
    "    return score\n",
    "\n",
    "# amazon\n",
    "ontology_vs_amazon['synonym_similarity'] = ontology_vs_amazon.apply(lambda x: \n",
    "                                                     score_similarity(x.ontology_genre, x.amazon_genre), axis=1)\n",
    "# goodreads\n",
    "ontology_vs_goodreads['synonym_similarity'] = ontology_vs_goodreads.apply(lambda x: \n",
    "                                                     score_similarity(x.ontology_genre, x.goodreads_genre), axis=1)"
   ]
  },
  {
   "cell_type": "code",
   "execution_count": 26,
   "metadata": {},
   "outputs": [
    {
     "data": {
      "text/plain": [
       "['narrative', 'narration', 'story', 'tale', 'fib', 'tarradiddle', 'taradiddle']"
      ]
     },
     "execution_count": 26,
     "metadata": {},
     "output_type": "execute_result"
    }
   ],
   "source": [
    "wordnet_synonyms(\"Tales\")"
   ]
  },
  {
   "cell_type": "code",
   "execution_count": 27,
   "metadata": {},
   "outputs": [
    {
     "data": {
      "text/plain": [
       "['narrative', 'narration', 'story', 'tale']"
      ]
     },
     "execution_count": 27,
     "metadata": {},
     "output_type": "execute_result"
    }
   ],
   "source": [
    "wordnet_synonyms(\"Narrative\")"
   ]
  },
  {
   "cell_type": "code",
   "execution_count": 28,
   "metadata": {},
   "outputs": [
    {
     "name": "stdout",
     "output_type": "stream",
     "text": [
      "36.36%\n"
     ]
    }
   ],
   "source": [
    "a = len(set(wordnet_synonyms(\"Tales\")) & set(wordnet_synonyms(\"Narrative\")))\n",
    "b = len(wordnet_synonyms(\"Tales\")) + len(wordnet_synonyms(\"Narrative\"))\n",
    "print(str(round(a / b * 100, 2))+\"%\")"
   ]
  },
  {
   "cell_type": "code",
   "execution_count": 29,
   "metadata": {},
   "outputs": [],
   "source": [
    "def get_score(ont_genre,gr_genre):\n",
    "    if type(gr_genre)==str:\n",
    "        return syn_sym_scores[ont_genre,gr_genre]+model_defs_subcats.docvecs.similarity(gr_genre,ont_genre)\n",
    "    else:\n",
    "        return 0\n",
    "    \n",
    "def get_match(genre):\n",
    "    score = 0\n",
    "    match = \"\"\n",
    "    for cat in o_cats:\n",
    "        if (get_score(cat,genre)>score):\n",
    "            score = get_score(cat,genre)\n",
    "            match = cat\n",
    "    return score, match"
   ]
  },
  {
   "cell_type": "markdown",
   "metadata": {},
   "source": [
    "# Doc2Vec Model Pre-Trained on Wikipedia Articles"
   ]
  },
  {
   "cell_type": "markdown",
   "metadata": {},
   "source": [
    "Load model and set alpha and epoch values"
   ]
  },
  {
   "cell_type": "code",
   "execution_count": 30,
   "metadata": {},
   "outputs": [],
   "source": [
    "# load model\n",
    "model=\"Model/enwiki_dbow/doc2vec.bin\"\n",
    "import gensim.models as g\n",
    "m = g.Doc2Vec.load(model)\n",
    "\n",
    "# inference hyper-parameters\n",
    "start_alpha=0.01\n",
    "infer_epoch=1000"
   ]
  },
  {
   "cell_type": "markdown",
   "metadata": {},
   "source": [
    "Test how it works with two lists of words that should be similar"
   ]
  },
  {
   "cell_type": "code",
   "execution_count": 31,
   "metadata": {},
   "outputs": [
    {
     "name": "stdout",
     "output_type": "stream",
     "text": [
      "62.34% similar\n"
     ]
    }
   ],
   "source": [
    "o = ['biographies','memoirs']\n",
    "a = ['life','writing','genre']\n",
    "o_vec = m.infer_vector(o, alpha=start_alpha, steps=infer_epoch)\n",
    "a_vec = m.infer_vector(a, alpha=start_alpha, steps=infer_epoch)\n",
    "cosine_similarity = 1 - scipy.spatial.distance.cosine(o_vec, a_vec)\n",
    "print(str(round(cosine_similarity*100,2))+\"% similar\")"
   ]
  },
  {
   "cell_type": "code",
   "execution_count": 32,
   "metadata": {},
   "outputs": [
    {
     "data": {
      "text/plain": [
       "0.6825348"
      ]
     },
     "execution_count": 32,
     "metadata": {},
     "output_type": "execute_result"
    }
   ],
   "source": [
    "m.docvecs.similarity_unseen_docs(m, o, a)"
   ]
  },
  {
   "cell_type": "markdown",
   "metadata": {},
   "source": [
    "Dictionary of words in Amazon genre and sub-genres combined"
   ]
  },
  {
   "cell_type": "code",
   "execution_count": 33,
   "metadata": {},
   "outputs": [],
   "source": [
    "amazon_word_dict = {}\n",
    "for i in range(0,len(a_tax)):\n",
    "    amazon_word_dict[a_tax.loc[i,'tier_1']] = [x.lower() for x in \n",
    "                                                    a_tax.loc[i,'all_cats'].split(\" \") if x]"
   ]
  },
  {
   "cell_type": "markdown",
   "metadata": {},
   "source": [
    "Dictionary of words in ontology definitions"
   ]
  },
  {
   "cell_type": "code",
   "execution_count": 34,
   "metadata": {},
   "outputs": [],
   "source": [
    "genre_def_dict = {}\n",
    "regex = re.compile('[%s]' % re.escape(string.punctuation))\n",
    "\n",
    "for i in range(0,len(defs)):\n",
    "    genre = defs.loc[i,'key'].replace(\" \",\"\")+\"Genre\"\n",
    "    definition = regex.sub('',defs.loc[i,'definition'])\n",
    "    genre_def_dict[genre] = [x.lower() for x in definition.split(\" \")]"
   ]
  },
  {
   "cell_type": "markdown",
   "metadata": {},
   "source": [
    "Scoring functions"
   ]
  },
  {
   "cell_type": "code",
   "execution_count": 35,
   "metadata": {},
   "outputs": [],
   "source": [
    "def score_doc2vec(o_words,a_g_words):\n",
    "    o_vector = m.infer_vector(o_words, alpha = start_alpha, steps = infer_epoch)\n",
    "    a_g_vector = m.infer_vector(a_g_words, alpha = start_alpha, steps = infer_epoch)\n",
    "    cosine_similarity = 1 - scipy.spatial.distance.cosine(o_vector, a_g_vector)\n",
    "    return cosine_similarity\n",
    "\n",
    "def score_doc2vec_v_unseen_docs(o_words,a_g_words):\n",
    "    cosine_similarity = m.docvecs.similarity_unseen_docs(m,o_words, a_g_words)\n",
    "    return cosine_similarity\n",
    "\n",
    "def intersection(lst1, lst2): \n",
    "    return list(set(lst1) & set(lst2))"
   ]
  },
  {
   "cell_type": "markdown",
   "metadata": {},
   "source": [
    "#### Amazon\n",
    "Score based on names in genre titles only"
   ]
  },
  {
   "cell_type": "code",
   "execution_count": 43,
   "metadata": {},
   "outputs": [],
   "source": [
    "ontology_vs_amazon['doc2vec_names_similarity_v_unseen_docs'] = ontology_vs_amazon.apply(lambda x: \n",
    "                                                     score_doc2vec_v_unseen_docs(word_dict[x.ontology_genre], \n",
    "                                                                   word_dict[x.amazon_genre]), axis=1)"
   ]
  },
  {
   "cell_type": "markdown",
   "metadata": {},
   "source": [
    "Score based on ontology genre titles and amazon genres + subgenres"
   ]
  },
  {
   "cell_type": "code",
   "execution_count": 25,
   "metadata": {},
   "outputs": [],
   "source": [
    "ontology_vs_amazon['doc2vec_subcats_similarity'] = ontology_vs_amazon.apply(lambda x: \n",
    "                                                     score_doc2vec(word_dict[x.ontology_genre], \n",
    "                                                                   amazon_word_dict[x.amazon_genre]), axis=1)"
   ]
  },
  {
   "cell_type": "markdown",
   "metadata": {},
   "source": [
    "Score based on ontology genre definitions and amazon genres + subgenres"
   ]
  },
  {
   "cell_type": "code",
   "execution_count": 26,
   "metadata": {},
   "outputs": [],
   "source": [
    "ontology_vs_amazon['doc2vec_subcats_defs_similarity'] = ontology_vs_amazon.apply(lambda x: \n",
    "                                                     score_doc2vec(genre_def_dict[x.ontology_genre], \n",
    "                                                                   amazon_word_dict[x.amazon_genre]), axis=1)"
   ]
  },
  {
   "cell_type": "markdown",
   "metadata": {},
   "source": [
    "#### Goodreads\n",
    "Score based on names in genre titles only"
   ]
  },
  {
   "cell_type": "code",
   "execution_count": 27,
   "metadata": {
    "scrolled": true
   },
   "outputs": [],
   "source": [
    "ontology_vs_goodreads['doc2vec_names_similarity'] = ontology_vs_goodreads.apply(lambda x: \n",
    "                                                     score_doc2vec(word_dict[x.ontology_genre], \n",
    "                                                                   word_dict[x.goodreads_genre]), axis=1)"
   ]
  },
  {
   "cell_type": "markdown",
   "metadata": {},
   "source": [
    "Score based on ontology genre definitions and goodreads genre titles"
   ]
  },
  {
   "cell_type": "code",
   "execution_count": 28,
   "metadata": {},
   "outputs": [],
   "source": [
    "tqdm.pandas()\n",
    "ontology_vs_goodreads['doc2vec_names_defs_similarity'] = ontology_vs_goodreads.progress_apply(lambda x: \n",
    "                                                     score_doc2vec(genre_def_dict[x.ontology_genre], \n",
    "                                                                   word_dict[x.goodreads_genre]), axis=1)"
   ]
  },
  {
   "cell_type": "code",
   "execution_count": 29,
   "metadata": {
    "scrolled": true
   },
   "outputs": [
    {
     "name": "stderr",
     "output_type": "stream",
     "text": [
      "/opt/anaconda3/lib/python3.8/site-packages/tqdm/std.py:668: FutureWarning: The Panel class is removed from pandas. Accessing it from the top-level namespace will also be removed in the next version\n",
      "  from pandas import Panel\n",
      "100%|██████████| 102696/102696 [17:13:52<00:00,  1.66it/s]       \n"
     ]
    }
   ],
   "source": [
    "tqdm.pandas()\n",
    "ontology_vs_goodreads['doc2vec_names_defs_similarity'] = ontology_vs_goodreads.progress_apply(lambda x: \n",
    "                                                     score_doc2vec(genre_def_dict[x.ontology_genre], \n",
    "                                                                   word_dict[x.goodreads_genre]), axis=1)"
   ]
  },
  {
   "cell_type": "markdown",
   "metadata": {},
   "source": [
    "Goodreads answer key"
   ]
  },
  {
   "cell_type": "code",
   "execution_count": 36,
   "metadata": {},
   "outputs": [],
   "source": [
    "g_ak = pd.read_csv(\"Datasets/goodreads_answer_key.csv\")"
   ]
  },
  {
   "cell_type": "markdown",
   "metadata": {},
   "source": [
    "Denote pairs verified in answer key"
   ]
  },
  {
   "cell_type": "code",
   "execution_count": 37,
   "metadata": {},
   "outputs": [],
   "source": [
    "def amazon_is_verified(amazon_genre, ontology_genre):\n",
    "    if (amazon_genre, ontology_genre) in az_key_tuples:\n",
    "        return 1 # correct\n",
    "    elif amazon_genre in az_key_dict: # if it's not a match but the match exists for that amazon genre\n",
    "        return -1 # incorrect\n",
    "    else:\n",
    "        return 0 # unspecified\n",
    "\n",
    "def goodreads_is_verified(gr_genre, o_genre):\n",
    "    if gr_genre in list(g_ak.goodreads_genre):\n",
    "        if g_ak.loc[g_ak['goodreads_genre'] == gr_genre, 'ontology_genre'].iloc[0] == o_genre:\n",
    "            return 1\n",
    "        else:\n",
    "            return -1\n",
    "    else:\n",
    "        return 0\n",
    "\n",
    "ontology_vs_amazon.loc[:,'verified'] = ontology_vs_amazon.apply(lambda x: \n",
    "                                                    amazon_is_verified(x.amazon_genre, x.ontology_genre), axis=1)\n",
    "\n",
    "ontology_vs_goodreads.loc[:,'verified'] = ontology_vs_goodreads.apply(lambda x: \n",
    "                                                    goodreads_is_verified(x.goodreads_genre, x.ontology_genre), \n",
    "                                                                      axis=1)"
   ]
  },
  {
   "cell_type": "markdown",
   "metadata": {},
   "source": [
    "## Amazon Scoring Model"
   ]
  },
  {
   "cell_type": "markdown",
   "metadata": {},
   "source": [
    "If doc2vec_names_similarity <= 0.2, score = doc2vec_subcats_similarity"
   ]
  },
  {
   "cell_type": "code",
   "execution_count": 178,
   "metadata": {},
   "outputs": [],
   "source": [
    "def score_1(names,subcats):\n",
    "    if names<=0.2:\n",
    "        return subcats\n",
    "    else:\n",
    "        return 0\n",
    "\n",
    "ontology_vs_amazon.loc[:,'score_1'] = ontology_vs_amazon.apply(lambda x: \n",
    "                                            score_1(x.doc2vec_names_similarity, x.doc2vec_subcats_similarity), axis=1)"
   ]
  },
  {
   "cell_type": "markdown",
   "metadata": {},
   "source": [
    "If doc2vec_names_similarity > 0.2, score = distance from best fit line of matches"
   ]
  },
  {
   "cell_type": "code",
   "execution_count": 179,
   "metadata": {},
   "outputs": [
    {
     "data": {
      "image/png": "[encoded data removed]",
      "text/plain": [
       "<Figure size 432x288 with 1 Axes>"
      ]
     },
     "metadata": {
      "needs_background": "light"
     },
     "output_type": "display_data"
    }
   ],
   "source": [
    "verified = ontology_vs_amazon[ontology_vs_amazon.verified==1]\n",
    "above_threshold_verified = verified[verified.doc2vec_names_similarity>0.2]\n",
    "x_above_threshold = np.array(list(above_threshold_verified.doc2vec_names_similarity))\n",
    "y_above_threshold = np.array(list(above_threshold_verified.doc2vec_subcats_similarity))\n",
    "m, b = np.polyfit(x_above_threshold, y_above_threshold, 1)\n",
    "plt.plot(x_above_threshold, m*x_above_threshold + b,'g')\n",
    "plt.xlabel(\"doc2vec_names_similarity\")\n",
    "plt.ylabel(\"doc2vec_subcats_similarity\")\n",
    "plt.show()"
   ]
  },
  {
   "cell_type": "code",
   "execution_count": 180,
   "metadata": {},
   "outputs": [],
   "source": [
    "A = m\n",
    "B = -2\n",
    "C = b\n",
    "\n",
    "# Function to find distance\n",
    "def shortest_distance(x1, y1, A, B, C):\n",
    "    d = abs((A * x1 + B * y1 + C)) / (math.sqrt(A * A + B * B))\n",
    "    return d\n",
    "\n",
    "def score_2(names,subcats):\n",
    "    if names>0.2:\n",
    "        return shortest_distance(names,subcats,A,B,C)\n",
    "    else:\n",
    "        return 0\n",
    "\n",
    "ontology_vs_amazon.loc[:,'score_2'] = ontology_vs_amazon.apply(lambda x: \n",
    "                                    score_2(x.doc2vec_names_similarity, x.doc2vec_subcats_similarity), axis=1)"
   ]
  },
  {
   "cell_type": "code",
   "execution_count": 181,
   "metadata": {},
   "outputs": [],
   "source": [
    "score_1_mean = ontology_vs_amazon.score_1.mean()\n",
    "score_2_mean = ontology_vs_amazon.score_2.mean()\n",
    "scale_multiplier = score_1_mean / score_2_mean"
   ]
  },
  {
   "cell_type": "code",
   "execution_count": 182,
   "metadata": {},
   "outputs": [],
   "source": [
    "ontology_vs_amazon.loc[:,'scaled_score_2'] = ontology_vs_amazon.loc[:,'score_2'].apply(lambda x: scale_multiplier*x)"
   ]
  },
  {
   "cell_type": "code",
   "execution_count": 183,
   "metadata": {},
   "outputs": [],
   "source": [
    "ontology_vs_amazon.loc[:,'score'] = ontology_vs_amazon.loc[:,'score_1'] + ontology_vs_amazon.loc[:,'scaled_score_2']"
   ]
  },
  {
   "cell_type": "code",
   "execution_count": 184,
   "metadata": {
    "scrolled": true
   },
   "outputs": [
    {
     "data": {
      "text/html": [
       "<div>\n",
       "<style scoped>\n",
       "    .dataframe tbody tr th:only-of-type {\n",
       "        vertical-align: middle;\n",
       "    }\n",
       "\n",
       "    .dataframe tbody tr th {\n",
       "        vertical-align: top;\n",
       "    }\n",
       "\n",
       "    .dataframe thead th {\n",
       "        text-align: right;\n",
       "    }\n",
       "</style>\n",
       "<table border=\"1\" class=\"dataframe\">\n",
       "  <thead>\n",
       "    <tr style=\"text-align: right;\">\n",
       "      <th></th>\n",
       "      <th>ontology_genre</th>\n",
       "      <th>amazon_genre</th>\n",
       "      <th>synonym_similarity</th>\n",
       "      <th>doc2vec_names_similarity</th>\n",
       "      <th>doc2vec_subcats_similarity</th>\n",
       "      <th>doc2vec_subcats_defs_similarity</th>\n",
       "      <th>verified</th>\n",
       "      <th>doc2vec_names_similarity_v_unseen_docs</th>\n",
       "      <th>score_1</th>\n",
       "      <th>score_2</th>\n",
       "      <th>scaled_score_2</th>\n",
       "      <th>score</th>\n",
       "    </tr>\n",
       "  </thead>\n",
       "  <tbody>\n",
       "    <tr>\n",
       "      <th>40</th>\n",
       "      <td>MusicalGenre</td>\n",
       "      <td>Arts &amp; Photography</td>\n",
       "      <td>0.0</td>\n",
       "      <td>0.001146</td>\n",
       "      <td>0.686881</td>\n",
       "      <td>0.494828</td>\n",
       "      <td>-1</td>\n",
       "      <td>-0.089871</td>\n",
       "      <td>0.686881</td>\n",
       "      <td>0.000000</td>\n",
       "      <td>0.000000</td>\n",
       "      <td>0.686881</td>\n",
       "    </tr>\n",
       "    <tr>\n",
       "      <th>89</th>\n",
       "      <td>InformationalGenre</td>\n",
       "      <td>Sports &amp; Outdoors</td>\n",
       "      <td>0.0</td>\n",
       "      <td>-0.000767</td>\n",
       "      <td>0.542015</td>\n",
       "      <td>0.332635</td>\n",
       "      <td>0</td>\n",
       "      <td>0.093676</td>\n",
       "      <td>0.542015</td>\n",
       "      <td>0.000000</td>\n",
       "      <td>0.000000</td>\n",
       "      <td>0.542015</td>\n",
       "    </tr>\n",
       "    <tr>\n",
       "      <th>119</th>\n",
       "      <td>ThematicGenre</td>\n",
       "      <td>Cookbooks</td>\n",
       "      <td>0.0</td>\n",
       "      <td>0.544389</td>\n",
       "      <td>0.428679</td>\n",
       "      <td>0.340168</td>\n",
       "      <td>-1</td>\n",
       "      <td>0.553478</td>\n",
       "      <td>0.000000</td>\n",
       "      <td>0.208195</td>\n",
       "      <td>1.296025</td>\n",
       "      <td>1.296025</td>\n",
       "    </tr>\n",
       "    <tr>\n",
       "      <th>163</th>\n",
       "      <td>ReligiousGenre</td>\n",
       "      <td>Teens</td>\n",
       "      <td>0.0</td>\n",
       "      <td>0.088062</td>\n",
       "      <td>0.680727</td>\n",
       "      <td>0.378412</td>\n",
       "      <td>-1</td>\n",
       "      <td>-0.120742</td>\n",
       "      <td>0.680727</td>\n",
       "      <td>0.000000</td>\n",
       "      <td>0.000000</td>\n",
       "      <td>0.680727</td>\n",
       "    </tr>\n",
       "    <tr>\n",
       "      <th>167</th>\n",
       "      <td>ReligiousGenre</td>\n",
       "      <td>Christian Books &amp; Bibles</td>\n",
       "      <td>0.0</td>\n",
       "      <td>0.030673</td>\n",
       "      <td>0.619892</td>\n",
       "      <td>0.376549</td>\n",
       "      <td>1</td>\n",
       "      <td>0.028918</td>\n",
       "      <td>0.619892</td>\n",
       "      <td>0.000000</td>\n",
       "      <td>0.000000</td>\n",
       "      <td>0.619892</td>\n",
       "    </tr>\n",
       "  </tbody>\n",
       "</table>\n",
       "</div>"
      ],
      "text/plain": [
       "         ontology_genre              amazon_genre  synonym_similarity  \\\n",
       "40         MusicalGenre        Arts & Photography                 0.0   \n",
       "89   InformationalGenre         Sports & Outdoors                 0.0   \n",
       "119       ThematicGenre                 Cookbooks                 0.0   \n",
       "163      ReligiousGenre                     Teens                 0.0   \n",
       "167      ReligiousGenre  Christian Books & Bibles                 0.0   \n",
       "\n",
       "     doc2vec_names_similarity  doc2vec_subcats_similarity  \\\n",
       "40                   0.001146                    0.686881   \n",
       "89                  -0.000767                    0.542015   \n",
       "119                  0.544389                    0.428679   \n",
       "163                  0.088062                    0.680727   \n",
       "167                  0.030673                    0.619892   \n",
       "\n",
       "     doc2vec_subcats_defs_similarity  verified  \\\n",
       "40                          0.494828        -1   \n",
       "89                          0.332635         0   \n",
       "119                         0.340168        -1   \n",
       "163                         0.378412        -1   \n",
       "167                         0.376549         1   \n",
       "\n",
       "     doc2vec_names_similarity_v_unseen_docs   score_1   score_2  \\\n",
       "40                                -0.089871  0.686881  0.000000   \n",
       "89                                 0.093676  0.542015  0.000000   \n",
       "119                                0.553478  0.000000  0.208195   \n",
       "163                               -0.120742  0.680727  0.000000   \n",
       "167                                0.028918  0.619892  0.000000   \n",
       "\n",
       "     scaled_score_2     score  \n",
       "40         0.000000  0.686881  \n",
       "89         0.000000  0.542015  \n",
       "119        1.296025  1.296025  \n",
       "163        0.000000  0.680727  \n",
       "167        0.000000  0.619892  "
      ]
     },
     "execution_count": 184,
     "metadata": {},
     "output_type": "execute_result"
    }
   ],
   "source": [
    "idx = ontology_vs_amazon.groupby(['amazon_genre'])['score'].transform(max) == ontology_vs_amazon['score']\n",
    "amazon_matches = ontology_vs_amazon[idx]\n",
    "amazon_matches.head(5)"
   ]
  },
  {
   "cell_type": "markdown",
   "metadata": {},
   "source": [
    "## GoodReads Scoring Model"
   ]
  },
  {
   "cell_type": "markdown",
   "metadata": {},
   "source": [
    "Score = doc2vec_names_similarity + doc2vec_names_defs_similarity + synonym_similarity"
   ]
  },
  {
   "cell_type": "code",
   "execution_count": 146,
   "metadata": {
    "scrolled": true
   },
   "outputs": [],
   "source": [
    "ontology_vs_goodreads.loc[:,'score'] = ontology_vs_goodreads.loc[:,'synonym_similarity']+ontology_vs_goodreads.loc[:,'doc2vec_names_similarity']+ontology_vs_goodreads.loc[:,'doc2vec_names_defs_similarity']"
   ]
  },
  {
   "cell_type": "markdown",
   "metadata": {},
   "source": [
    "Get IDs fo the maximum scored ontology_genre per goodreads_genre"
   ]
  },
  {
   "cell_type": "code",
   "execution_count": 147,
   "metadata": {},
   "outputs": [],
   "source": [
    "idx = ontology_vs_goodreads.groupby(['goodreads_genre'])['score'].transform(max) == ontology_vs_goodreads['score']"
   ]
  },
  {
   "cell_type": "markdown",
   "metadata": {},
   "source": [
    "Filter dataframe to \"matches\" and add a match/no-match field to the original dataframe"
   ]
  },
  {
   "cell_type": "code",
   "execution_count": 148,
   "metadata": {
    "scrolled": true
   },
   "outputs": [
    {
     "data": {
      "text/html": [
       "<div>\n",
       "<style scoped>\n",
       "    .dataframe tbody tr th:only-of-type {\n",
       "        vertical-align: middle;\n",
       "    }\n",
       "\n",
       "    .dataframe tbody tr th {\n",
       "        vertical-align: top;\n",
       "    }\n",
       "\n",
       "    .dataframe thead th {\n",
       "        text-align: right;\n",
       "    }\n",
       "</style>\n",
       "<table border=\"1\" class=\"dataframe\">\n",
       "  <thead>\n",
       "    <tr style=\"text-align: right;\">\n",
       "      <th></th>\n",
       "      <th>ontology_genre</th>\n",
       "      <th>goodreads_genre</th>\n",
       "      <th>synonym_similarity</th>\n",
       "      <th>doc2vec_names_similarity</th>\n",
       "      <th>doc2vec_names_defs_similarity</th>\n",
       "      <th>verified</th>\n",
       "      <th>score</th>\n",
       "      <th>key</th>\n",
       "      <th>match</th>\n",
       "    </tr>\n",
       "  </thead>\n",
       "  <tbody>\n",
       "    <tr>\n",
       "      <th>110</th>\n",
       "      <td>PoliticalGenre</td>\n",
       "      <td>Election</td>\n",
       "      <td>0.000000</td>\n",
       "      <td>0.704796</td>\n",
       "      <td>0.246495</td>\n",
       "      <td>1</td>\n",
       "      <td>0.951291</td>\n",
       "      <td>Election|PoliticalGenre</td>\n",
       "      <td>1</td>\n",
       "    </tr>\n",
       "    <tr>\n",
       "      <th>185</th>\n",
       "      <td>PoliticalGenre</td>\n",
       "      <td>politics</td>\n",
       "      <td>0.000000</td>\n",
       "      <td>0.890885</td>\n",
       "      <td>0.347064</td>\n",
       "      <td>0</td>\n",
       "      <td>1.237949</td>\n",
       "      <td>politics|PoliticalGenre</td>\n",
       "      <td>1</td>\n",
       "    </tr>\n",
       "    <tr>\n",
       "      <th>204</th>\n",
       "      <td>PoliticalGenre</td>\n",
       "      <td>Views on political leadership</td>\n",
       "      <td>0.027027</td>\n",
       "      <td>0.823849</td>\n",
       "      <td>0.305967</td>\n",
       "      <td>0</td>\n",
       "      <td>1.156843</td>\n",
       "      <td>Views on political leadership|PoliticalGenre</td>\n",
       "      <td>1</td>\n",
       "    </tr>\n",
       "    <tr>\n",
       "      <th>263</th>\n",
       "      <td>PoliticalGenre</td>\n",
       "      <td>United states, politics and government</td>\n",
       "      <td>0.000000</td>\n",
       "      <td>0.773560</td>\n",
       "      <td>0.369636</td>\n",
       "      <td>0</td>\n",
       "      <td>1.143196</td>\n",
       "      <td>United states, politics and government|Politic...</td>\n",
       "      <td>1</td>\n",
       "    </tr>\n",
       "    <tr>\n",
       "      <th>344</th>\n",
       "      <td>PoliticalGenre</td>\n",
       "      <td>Union Army</td>\n",
       "      <td>0.000000</td>\n",
       "      <td>0.610811</td>\n",
       "      <td>0.302632</td>\n",
       "      <td>0</td>\n",
       "      <td>0.913443</td>\n",
       "      <td>Union Army|PoliticalGenre</td>\n",
       "      <td>1</td>\n",
       "    </tr>\n",
       "  </tbody>\n",
       "</table>\n",
       "</div>"
      ],
      "text/plain": [
       "     ontology_genre                         goodreads_genre  \\\n",
       "110  PoliticalGenre                                Election   \n",
       "185  PoliticalGenre                                politics   \n",
       "204  PoliticalGenre           Views on political leadership   \n",
       "263  PoliticalGenre  United states, politics and government   \n",
       "344  PoliticalGenre                              Union Army   \n",
       "\n",
       "     synonym_similarity  doc2vec_names_similarity  \\\n",
       "110            0.000000                  0.704796   \n",
       "185            0.000000                  0.890885   \n",
       "204            0.027027                  0.823849   \n",
       "263            0.000000                  0.773560   \n",
       "344            0.000000                  0.610811   \n",
       "\n",
       "     doc2vec_names_defs_similarity  verified     score  \\\n",
       "110                       0.246495         1  0.951291   \n",
       "185                       0.347064         0  1.237949   \n",
       "204                       0.305967         0  1.156843   \n",
       "263                       0.369636         0  1.143196   \n",
       "344                       0.302632         0  0.913443   \n",
       "\n",
       "                                                   key  match  \n",
       "110                            Election|PoliticalGenre      1  \n",
       "185                            politics|PoliticalGenre      1  \n",
       "204       Views on political leadership|PoliticalGenre      1  \n",
       "263  United states, politics and government|Politic...      1  \n",
       "344                          Union Army|PoliticalGenre      1  "
      ]
     },
     "execution_count": 148,
     "metadata": {},
     "output_type": "execute_result"
    }
   ],
   "source": [
    "goodreads_matches = ontology_vs_goodreads[idx][['goodreads_genre','ontology_genre','score','verified']]\n",
    "goodreads_matches.loc[:,'key'] = goodreads_matches.loc[:,'goodreads_genre']+\"|\"+goodreads_matches.loc[:,'ontology_genre']\n",
    "goodreads_match_keys = list(goodreads_matches.key)\n",
    "ontology_vs_goodreads.loc[:,'key'] = ontology_vs_goodreads.loc[:,'goodreads_genre']+\"|\"+ontology_vs_goodreads.loc[:,'ontology_genre']\n",
    "ontology_vs_goodreads.loc[:,'match'] = ontology_vs_goodreads.loc[:,'key'].apply(lambda x: \n",
    "                                                                    1 if x in goodreads_match_keys else 0)\n",
    "ontology_vs_goodreads[ontology_vs_goodreads.match==1].head(5)"
   ]
  },
  {
   "cell_type": "markdown",
   "metadata": {},
   "source": [
    "## Model Analysis and Metric Plotting"
   ]
  },
  {
   "cell_type": "code",
   "execution_count": 40,
   "metadata": {},
   "outputs": [],
   "source": [
    "ontology_vs_amazon = pd.read_csv(\"ontology_vs_amazon.csv\")\n",
    "ontology_vs_goodreads = pd.read_csv(\"ontology_vs_goodreads.csv\")"
   ]
  },
  {
   "cell_type": "code",
   "execution_count": 41,
   "metadata": {},
   "outputs": [],
   "source": [
    "def generate_graph_dependencies(dataset, genre, metric_x, metric_y):\n",
    "    if 'amazon_genre' in dataset.columns:\n",
    "        subset = dataset[dataset.amazon_genre==genre]\n",
    "        print('amazon: '+str(len(subset)))\n",
    "    elif 'goodreads_genre' in dataset.columns:\n",
    "        subset = dataset[dataset.goodreads_genre==genre]\n",
    "        print('goodreads: '+str(len(subset)))\n",
    "    subset_0 = subset[subset.verified==-1]\n",
    "    print('unverified: '+str(len(subset_0)))\n",
    "    subset_1 = subset[subset.verified==1]\n",
    "    print('verified: '+str(len(subset_1)))\n",
    "    x_0 = np.array(list(subset_0[metric_x]))\n",
    "    y_0 = np.array(list(subset_0[metric_y]))\n",
    "    x_1 = np.array(list(subset_1[metric_x]))\n",
    "    y_1 = np.array(list(subset_1[metric_y]))\n",
    "    return x_0,y_0,x_1,y_1\n",
    "\n",
    "def generate_graph(x_0,y_0,x_1,y_1,genre,dataset,metric_x,metric_y):\n",
    "    plt.scatter(x_0,y_0,color='lightsteelblue')\n",
    "    plt.scatter(x_1,y_1,color='b')\n",
    "\n",
    "    plt.xlabel(metric_x)\n",
    "    plt.ylabel(metric_y)\n",
    "    plt.title(genre)\n",
    "    xmin = dataset[metric_x].min()\n",
    "    xmax = dataset[metric_x].max()\n",
    "    ymin = dataset[metric_y].min()\n",
    "    ymax = dataset[metric_y].max()\n",
    "    plt.xlim([xmin,xmax])\n",
    "    plt.ylim([ymin,ymax])\n",
    "    plt.show()"
   ]
  },
  {
   "cell_type": "markdown",
   "metadata": {},
   "source": [
    "### Visualizing genres\n",
    "#### Amazon \n",
    "Genre list"
   ]
  },
  {
   "cell_type": "code",
   "execution_count": 45,
   "metadata": {},
   "outputs": [
    {
     "data": {
      "text/plain": [
       "array(['Literature & Fiction', 'Science Fiction & Fantasy',\n",
       "       'Business & Investing', 'Biographies & Memoirs', 'Health',\n",
       "       'Humor & Entertainment', 'Self-Help', \"Children's Books\", 'Teens',\n",
       "       'Arts & Photography', 'Education & Reference',\n",
       "       'Politics & Social Sciences', 'Christian Books & Bibles',\n",
       "       'Religion & Spirituality', 'New', 'Romance', 'History',\n",
       "       'Professional & Technical', 'Science & Math',\n",
       "       'Computers & Technology', 'Parenting & Relationships', 'Travel',\n",
       "       'Crafts', 'Gay & Lesbian', 'Medical Books', 'Mystery', 'Cookbooks',\n",
       "       'Sports & Outdoors', 'Law', 'Comics & Graphic Novels', 'Calendars'],\n",
       "      dtype=object)"
      ]
     },
     "execution_count": 45,
     "metadata": {},
     "output_type": "execute_result"
    }
   ],
   "source": [
    "ontology_vs_amazon.amazon_genre.unique()"
   ]
  },
  {
   "cell_type": "markdown",
   "metadata": {},
   "source": [
    "Amazon metrics"
   ]
  },
  {
   "cell_type": "code",
   "execution_count": 58,
   "metadata": {},
   "outputs": [
    {
     "data": {
      "text/plain": [
       "['synonym_similarity',\n",
       " 'doc2vec_names_similarity',\n",
       " 'doc2vec_subcats_similarity',\n",
       " 'doc2vec_subcats_defs_similarity']"
      ]
     },
     "execution_count": 58,
     "metadata": {},
     "output_type": "execute_result"
    }
   ],
   "source": [
    "list(ontology_vs_amazon.columns[2:len(list(ontology_vs_amazon.columns))-1])"
   ]
  },
  {
   "cell_type": "markdown",
   "metadata": {},
   "source": [
    "Example amazon genre visualization"
   ]
  },
  {
   "cell_type": "code",
   "execution_count": 52,
   "metadata": {},
   "outputs": [
    {
     "name": "stdout",
     "output_type": "stream",
     "text": [
      "amazon: 33\n",
      "unverified: 32\n",
      "verified: 1\n"
     ]
    },
    {
     "data": {
      "image/png": "[encoded data removed]",
      "text/plain": [
       "<Figure size 432x288 with 1 Axes>"
      ]
     },
     "metadata": {
      "needs_background": "light"
     },
     "output_type": "display_data"
    }
   ],
   "source": [
    "genre = \"Literature & Fiction\"\n",
    "x_0,y_0,x_1,y_1 = generate_graph_dependencies(ontology_vs_amazon,genre,\"doc2vec_names_similarity\",'doc2vec_subcats_similarity')\n",
    "generate_graph(x_0,y_0,x_1,y_1,genre,ontology_vs_amazon,\"doc2vec_names_similarity\",\"doc2vec_subcats_similarity\")\n"
   ]
  },
  {
   "cell_type": "markdown",
   "metadata": {},
   "source": [
    "#### Goodreads\n",
    "Genre List"
   ]
  },
  {
   "cell_type": "code",
   "execution_count": 53,
   "metadata": {},
   "outputs": [
    {
     "data": {
      "text/plain": [
       "array(['orphans', \"Children's Books/Ages 9-12 Fiction\", 'Fantasy fiction',\n",
       "       ..., 'Confederate States of America', 'Juvenile drama',\n",
       "       'Ajax (Web site development technology)'], dtype=object)"
      ]
     },
     "execution_count": 53,
     "metadata": {},
     "output_type": "execute_result"
    }
   ],
   "source": [
    "ontology_vs_goodreads.goodreads_genre.unique()"
   ]
  },
  {
   "cell_type": "markdown",
   "metadata": {},
   "source": [
    "Goodreads metrics"
   ]
  },
  {
   "cell_type": "code",
   "execution_count": 59,
   "metadata": {},
   "outputs": [
    {
     "data": {
      "text/plain": [
       "['synonym_similarity',\n",
       " 'doc2vec_names_similarity',\n",
       " 'doc2vec_names_defs_similarity']"
      ]
     },
     "execution_count": 59,
     "metadata": {},
     "output_type": "execute_result"
    }
   ],
   "source": [
    "list(ontology_vs_goodreads.columns[2:len(list(ontology_vs_goodreads.columns))-1])"
   ]
  },
  {
   "cell_type": "code",
   "execution_count": 43,
   "metadata": {},
   "outputs": [
    {
     "name": "stdout",
     "output_type": "stream",
     "text": [
      "goodreads: 33\n",
      "unverified: 32\n",
      "verified: 1\n"
     ]
    },
    {
     "data": {
      "image/png": "[encoded data removed]",
      "text/plain": [
       "<Figure size 432x288 with 1 Axes>"
      ]
     },
     "metadata": {
      "needs_background": "light"
     },
     "output_type": "display_data"
    }
   ],
   "source": [
    "genre = \"Humor\"\n",
    "x_0,y_0,x_1,y_1 = generate_graph_dependencies(ontology_vs_goodreads,genre,\"doc2vec_names_similarity\",\"doc2vec_names_defs_similarity\")\n",
    "generate_graph(x_0,y_0,x_1,y_1,genre,ontology_vs_goodreads,\"doc2vec_names_similarity\",\"doc2vec_names_defs_similarity\")\n"
   ]
  },
  {
   "cell_type": "markdown",
   "metadata": {},
   "source": [
    "## Join in Books\n",
    "#### Goodreads"
   ]
  },
  {
   "cell_type": "code",
   "execution_count": 149,
   "metadata": {},
   "outputs": [
    {
     "data": {
      "text/html": [
       "<div>\n",
       "<style scoped>\n",
       "    .dataframe tbody tr th:only-of-type {\n",
       "        vertical-align: middle;\n",
       "    }\n",
       "\n",
       "    .dataframe tbody tr th {\n",
       "        vertical-align: top;\n",
       "    }\n",
       "\n",
       "    .dataframe thead th {\n",
       "        text-align: right;\n",
       "    }\n",
       "</style>\n",
       "<table border=\"1\" class=\"dataframe\">\n",
       "  <thead>\n",
       "    <tr style=\"text-align: right;\">\n",
       "      <th></th>\n",
       "      <th>title</th>\n",
       "      <th>genre1</th>\n",
       "      <th>genre2</th>\n",
       "      <th>ontology_genre</th>\n",
       "    </tr>\n",
       "  </thead>\n",
       "  <tbody>\n",
       "    <tr>\n",
       "      <th>0</th>\n",
       "      <td>Harry Potter and the Half-Blood Prince (Harry ...</td>\n",
       "      <td>orphans</td>\n",
       "      <td>foster homes</td>\n",
       "      <td>PedagogicalGenre</td>\n",
       "    </tr>\n",
       "    <tr>\n",
       "      <th>1</th>\n",
       "      <td>Harry Potter and the Order of the Phoenix (Har...</td>\n",
       "      <td>Children's Books/Ages 9-12 Fiction</td>\n",
       "      <td>Witches and warlocks</td>\n",
       "      <td>ChildrensLiteratureGenre</td>\n",
       "    </tr>\n",
       "    <tr>\n",
       "      <th>2</th>\n",
       "      <td>Harry Potter and the Chamber of Secrets (Harry...</td>\n",
       "      <td>Fantasy fiction</td>\n",
       "      <td>school stories</td>\n",
       "      <td>MysteryGenre</td>\n",
       "    </tr>\n",
       "    <tr>\n",
       "      <th>3</th>\n",
       "      <td>Harry Potter and the Prisoner of Azkaban (Harr...</td>\n",
       "      <td>fantasy fiction</td>\n",
       "      <td>orphans</td>\n",
       "      <td>MysteryGenre</td>\n",
       "    </tr>\n",
       "    <tr>\n",
       "      <th>4</th>\n",
       "      <td>Harry Potter Boxed Set  Books 1-5 (Harry Potte...</td>\n",
       "      <td>Potter, harry (fictitious character), fiction</td>\n",
       "      <td>Hogwarts school of witchcraft and wizardry (im...</td>\n",
       "      <td>FictionalGenre</td>\n",
       "    </tr>\n",
       "  </tbody>\n",
       "</table>\n",
       "</div>"
      ],
      "text/plain": [
       "                                               title  \\\n",
       "0  Harry Potter and the Half-Blood Prince (Harry ...   \n",
       "1  Harry Potter and the Order of the Phoenix (Har...   \n",
       "2  Harry Potter and the Chamber of Secrets (Harry...   \n",
       "3  Harry Potter and the Prisoner of Azkaban (Harr...   \n",
       "4  Harry Potter Boxed Set  Books 1-5 (Harry Potte...   \n",
       "\n",
       "                                          genre1  \\\n",
       "0                                        orphans   \n",
       "1             Children's Books/Ages 9-12 Fiction   \n",
       "2                                Fantasy fiction   \n",
       "3                                fantasy fiction   \n",
       "4  Potter, harry (fictitious character), fiction   \n",
       "\n",
       "                                              genre2            ontology_genre  \n",
       "0                                       foster homes          PedagogicalGenre  \n",
       "1                               Witches and warlocks  ChildrensLiteratureGenre  \n",
       "2                                     school stories              MysteryGenre  \n",
       "3                                            orphans              MysteryGenre  \n",
       "4  Hogwarts school of witchcraft and wizardry (im...            FictionalGenre  "
      ]
     },
     "execution_count": 149,
     "metadata": {},
     "output_type": "execute_result"
    }
   ],
   "source": [
    "gr_match_dict = dict(zip(goodreads_matches.goodreads_genre, goodreads_matches.ontology_genre))\n",
    "gr.loc[:,'ontology_genre'] = gr.loc[:,'genre1'].apply(lambda x: gr_match_dict[x] if x in gr_match_dict else \"\")\n",
    "gr.head(5)"
   ]
  },
  {
   "cell_type": "code",
   "execution_count": 169,
   "metadata": {},
   "outputs": [],
   "source": [
    "gr = gr.reset_index().drop(columns=['index'])"
   ]
  },
  {
   "cell_type": "markdown",
   "metadata": {},
   "source": [
    "#### Amazon"
   ]
  },
  {
   "cell_type": "code",
   "execution_count": 187,
   "metadata": {},
   "outputs": [
    {
     "data": {
      "text/html": [
       "<div>\n",
       "<style scoped>\n",
       "    .dataframe tbody tr th:only-of-type {\n",
       "        vertical-align: middle;\n",
       "    }\n",
       "\n",
       "    .dataframe tbody tr th {\n",
       "        vertical-align: top;\n",
       "    }\n",
       "\n",
       "    .dataframe thead th {\n",
       "        text-align: right;\n",
       "    }\n",
       "</style>\n",
       "<table border=\"1\" class=\"dataframe\">\n",
       "  <thead>\n",
       "    <tr style=\"text-align: right;\">\n",
       "      <th></th>\n",
       "      <th>title</th>\n",
       "      <th>tier_1</th>\n",
       "      <th>tier_2</th>\n",
       "      <th>tier_3</th>\n",
       "      <th>tier_4</th>\n",
       "      <th>tier_5</th>\n",
       "      <th>tier_6</th>\n",
       "      <th>ontology_genre</th>\n",
       "    </tr>\n",
       "  </thead>\n",
       "  <tbody>\n",
       "    <tr>\n",
       "      <th>0</th>\n",
       "      <td>Past Imperfect (Daw Book Collectors)</td>\n",
       "      <td>Books</td>\n",
       "      <td>Literature &amp; Fiction</td>\n",
       "      <td>Anthologies &amp; Literary Collections</td>\n",
       "      <td>General</td>\n",
       "      <td>NaN</td>\n",
       "      <td>NaN</td>\n",
       "      <td>LiteraryGenre</td>\n",
       "    </tr>\n",
       "    <tr>\n",
       "      <th>1</th>\n",
       "      <td>Past Imperfect (Daw Book Collectors)</td>\n",
       "      <td>Books</td>\n",
       "      <td>Literature &amp; Fiction</td>\n",
       "      <td>United States</td>\n",
       "      <td>NaN</td>\n",
       "      <td>NaN</td>\n",
       "      <td>NaN</td>\n",
       "      <td>LiteraryGenre</td>\n",
       "    </tr>\n",
       "    <tr>\n",
       "      <th>2</th>\n",
       "      <td>Past Imperfect (Daw Book Collectors)</td>\n",
       "      <td>Books</td>\n",
       "      <td>Science Fiction &amp; Fantasy</td>\n",
       "      <td>Science Fiction</td>\n",
       "      <td>Anthologies</td>\n",
       "      <td>NaN</td>\n",
       "      <td>NaN</td>\n",
       "      <td>SocialScienceGenre</td>\n",
       "    </tr>\n",
       "    <tr>\n",
       "      <th>3</th>\n",
       "      <td>Past Imperfect (Daw Book Collectors)</td>\n",
       "      <td>Books</td>\n",
       "      <td>Science Fiction &amp; Fantasy</td>\n",
       "      <td>Science Fiction</td>\n",
       "      <td>Short Stories</td>\n",
       "      <td>NaN</td>\n",
       "      <td>NaN</td>\n",
       "      <td>SocialScienceGenre</td>\n",
       "    </tr>\n",
       "    <tr>\n",
       "      <th>4</th>\n",
       "      <td>Winning Every Time: How to Use the Skills of a...</td>\n",
       "      <td>Books</td>\n",
       "      <td>Business &amp; Investing</td>\n",
       "      <td>Business Life</td>\n",
       "      <td>Motivation &amp; Self-Improvement</td>\n",
       "      <td>NaN</td>\n",
       "      <td>NaN</td>\n",
       "      <td>HistoricalGenre</td>\n",
       "    </tr>\n",
       "  </tbody>\n",
       "</table>\n",
       "</div>"
      ],
      "text/plain": [
       "                                               title tier_1  \\\n",
       "0               Past Imperfect (Daw Book Collectors)  Books   \n",
       "1               Past Imperfect (Daw Book Collectors)  Books   \n",
       "2               Past Imperfect (Daw Book Collectors)  Books   \n",
       "3               Past Imperfect (Daw Book Collectors)  Books   \n",
       "4  Winning Every Time: How to Use the Skills of a...  Books   \n",
       "\n",
       "                      tier_2                               tier_3  \\\n",
       "0       Literature & Fiction   Anthologies & Literary Collections   \n",
       "1       Literature & Fiction                        United States   \n",
       "2  Science Fiction & Fantasy                      Science Fiction   \n",
       "3  Science Fiction & Fantasy                      Science Fiction   \n",
       "4       Business & Investing                        Business Life   \n",
       "\n",
       "                           tier_4 tier_5 tier_6      ontology_genre  \n",
       "0                         General    NaN    NaN       LiteraryGenre  \n",
       "1                             NaN    NaN    NaN       LiteraryGenre  \n",
       "2                     Anthologies    NaN    NaN  SocialScienceGenre  \n",
       "3                   Short Stories    NaN    NaN  SocialScienceGenre  \n",
       "4   Motivation & Self-Improvement    NaN    NaN     HistoricalGenre  "
      ]
     },
     "execution_count": 187,
     "metadata": {},
     "output_type": "execute_result"
    }
   ],
   "source": [
    "az_match_dict = dict(zip(amazon_matches.amazon_genre, amazon_matches.ontology_genre))\n",
    "az.loc[:,'tier_2'] = az.loc[:,'tier_2'].apply(lambda x: x.lstrip().rstrip() if type(x)==str else \"\")\n",
    "az.loc[:,'ontology_genre'] = az.loc[:,'tier_2'].apply(lambda x: az_match_dict[x] if x in az_match_dict else \"\")\n",
    "az.head(5)"
   ]
  },
  {
   "cell_type": "markdown",
   "metadata": {},
   "source": [
    "# Export to Neo4j"
   ]
  },
  {
   "cell_type": "markdown",
   "metadata": {},
   "source": [
    "set neo4j_dir to \"data\" directory of Neo4j desktop, i.e. location for csv load"
   ]
  },
  {
   "cell_type": "code",
   "execution_count": 334,
   "metadata": {},
   "outputs": [],
   "source": [
    "neo4j_dir = \"\""
   ]
  },
  {
   "cell_type": "code",
   "execution_count": 335,
   "metadata": {},
   "outputs": [],
   "source": [
    "gr.to_csv(neo4j_dir+\"goodreads_categorized_books.csv\",index=False)\n",
    "az.to_csv(neo4j_dir+\"amazon_categorized_books.csv\",index=False)"
   ]
  },
  {
   "cell_type": "markdown",
   "metadata": {},
   "source": [
    "# Exploring Discrepancies"
   ]
  },
  {
   "cell_type": "code",
   "execution_count": 371,
   "metadata": {},
   "outputs": [
    {
     "data": {
      "text/plain": [
       "Women                         12\n",
       "Married women                 10\n",
       "Young women                    7\n",
       "Single women                   6\n",
       "Divorced women                 6\n",
       "                              ..\n",
       "Sex role                       1\n",
       "Civil disobedience             1\n",
       "Mexican Americans              1\n",
       "Spain Civil War, 1936-1939     1\n",
       "Constitutional law             1\n",
       "Name: genre1, Length: 136, dtype: int64"
      ]
     },
     "execution_count": 371,
     "metadata": {},
     "output_type": "execute_result"
    }
   ],
   "source": [
    "gr[gr['ontology_genre']==\"FeministGenre\"].genre1.value_counts()"
   ]
  },
  {
   "cell_type": "code",
   "execution_count": 380,
   "metadata": {
    "scrolled": true
   },
   "outputs": [
    {
     "data": {
      "text/plain": [
       "Trials, litigation                      1\n",
       "Hispanic Americans                      1\n",
       "Barbecue sauce                          1\n",
       "African American household employees    1\n",
       "dementia                                1\n",
       "                                       ..\n",
       "Women inventors                         1\n",
       "Aging                                   1\n",
       "Racially mixed children                 1\n",
       "Young Adult                             1\n",
       "female subjects                         1\n",
       "Name: goodreads_genre, Length: 572, dtype: int64"
      ]
     },
     "execution_count": 380,
     "metadata": {},
     "output_type": "execute_result"
    }
   ],
   "source": [
    "idx = ontology_vs_goodreads.groupby(['goodreads_genre'])['doc2vec_names_similarity'].transform(max)==ontology_vs_goodreads['doc2vec_names_similarity']\n",
    "names_defs_matches = ontology_vs_goodreads[idx]\n",
    "names_defs_matches[names_defs_matches['ontology_genre']==\"FeministGenre\"].goodreads_genre.value_counts()\n"
   ]
  },
  {
   "cell_type": "code",
   "execution_count": 382,
   "metadata": {},
   "outputs": [
    {
     "data": {
      "text/plain": [
       "Women                         12\n",
       "Married women                 10\n",
       "Young women                    7\n",
       "Single women                   6\n",
       "Divorced women                 6\n",
       "                              ..\n",
       "Sex role                       1\n",
       "Civil disobedience             1\n",
       "Mexican Americans              1\n",
       "Spain Civil War, 1936-1939     1\n",
       "Constitutional law             1\n",
       "Name: genre1, Length: 136, dtype: int64"
      ]
     },
     "execution_count": 382,
     "metadata": {},
     "output_type": "execute_result"
    }
   ],
   "source": [
    "gr[gr.ontology_genre==\"FeministGenre\"].genre1.value_counts()"
   ]
  },
  {
   "cell_type": "code",
   "execution_count": null,
   "metadata": {},
   "outputs": [],
   "source": []
  }
 ],
 "metadata": {
  "kernelspec": {
   "display_name": "Python 3",
   "language": "python",
   "name": "python3"
  },
  "language_info": {
   "codemirror_mode": {
    "name": "ipython",
    "version": 3
   },
   "file_extension": ".py",
   "mimetype": "text/x-python",
   "name": "python",
   "nbconvert_exporter": "python",
   "pygments_lexer": "ipython3",
   "version": "3.8.3"
  }
 },
 "nbformat": 4,
 "nbformat_minor": 4
}
