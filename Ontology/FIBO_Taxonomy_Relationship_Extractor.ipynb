{
 "cells": [
  {
   "cell_type": "markdown",
   "metadata": {},
   "source": [
    "# Ontology Taxonomy and Relationship Map Extractor"
   ]
  },
  {
   "cell_type": "code",
   "execution_count": null,
   "metadata": {},
   "outputs": [],
   "source": [
    "import pandas as pd\n",
    "import numpy as np\n",
    "from neo4j import GraphDatabase\n",
    "import itertools\n",
    "from tqdm import tqdm\n",
    "import string"
   ]
  },
  {
   "cell_type": "markdown",
   "metadata": {},
   "source": [
    "### FIBO Ontology in Neo4j Setup\n",
    "1. Install APOC and neosemantics on your instance of Neo4j.<br />\n",
    "2. Ingest FIBO into a Neo4j graph database by running the following two cypher queries:<br />\n",
    "`CALL n10s.graphconfig.init();`<br />\n",
    "`CALL n10s.onto.import.fetch(\"https://spec.edmcouncil.org/fibo/ontology/master/2020Q2/prod.fibo-quickstart.ttl\",\"Turtle\");`"
   ]
  },
  {
   "cell_type": "markdown",
   "metadata": {},
   "source": [
    "## Setup Neo4j Python Driver\n",
    "Use host where you implemented FIBO Neo4j setup above"
   ]
  },
  {
   "cell_type": "code",
   "execution_count": 12,
   "metadata": {},
   "outputs": [],
   "source": [
    "#uri = \"neo4j://localhost:7687\"\n",
    "uri = \"neo4j://10.20.1.21:7687\"\n",
    "driver = GraphDatabase.driver(uri, auth=(\"neo4j\", \"dt\"))"
   ]
  },
  {
   "cell_type": "markdown",
   "metadata": {},
   "source": [
    "## Determine the maximum length of relationship chain"
   ]
  },
  {
   "cell_type": "code",
   "execution_count": 39,
   "metadata": {},
   "outputs": [
    {
     "name": "stdout",
     "output_type": "stream",
     "text": [
      "Maximum length of relationship chain: 12\n"
     ]
    }
   ],
   "source": [
    "match_statement = \"MATCH (n)-[:SCO]->()\"\n",
    "addition = \"-[:SCO]->()\"\n",
    "size_query = (match_statement + \" RETURN count(distinct n.name) as node_count\")\n",
    "max_tax = 0\n",
    "\n",
    "def get_taxonomy_size(tx):\n",
    "    nodes = [record['node_count'] for record in tx.run(size_query)]\n",
    "    return nodes\n",
    "\n",
    "with driver.session() as session:\n",
    "    nodes = session.read_transaction(get_taxonomy_size)\n",
    "    max_tax = 1\n",
    "    while nodes[0]>0:\n",
    "        max_tax = max_tax+1\n",
    "        match_statement = match_statement+addition\n",
    "        size_query = (match_statement + \" RETURN count(distinct n.name) as node_count\")\n",
    "        nodes = session.read_transaction(get_taxonomy_size)\n",
    "\n",
    "driver.close()\n",
    "\n",
    "print(\"Maximum length of relationship chain: \"+str(max_tax))"
   ]
  },
  {
   "cell_type": "markdown",
   "metadata": {},
   "source": [
    "## Get tier 1 classifications"
   ]
  },
  {
   "cell_type": "code",
   "execution_count": 51,
   "metadata": {},
   "outputs": [
    {
     "name": "stdout",
     "output_type": "stream",
     "text": [
      "['CommercialActivity', 'Policy', 'Convention', 'Location', 'StatisticalProgram', 'CodeElement', 'Capital', 'Account', 'ThingInRole', 'Jurisdiction', 'Good', 'Situation', 'Currency', 'Collection', 'AutonomousAgent', 'Objective', 'Service', 'CollectionConstituent', 'Aspect', 'OccurrenceKind', 'TimeInterval', 'Language', 'Opinion', 'ControllingCapacity', 'ContractualElement', 'Exposure', 'Product', 'Constitution', 'TimeInstant', 'Law', 'LegalConstruct', 'Commitment', 'Strategy', 'Document', 'Equity', 'Agreement', 'Reference', 'Offering', 'Arrangement', 'QuantityValue', 'LegalSystem', 'Occurrence']\n"
     ]
    }
   ],
   "source": [
    "def get_top_tier(tx):\n",
    "    query = (\n",
    "        \"MATCH ()-[:SCO]->(a) \"\n",
    "        \"WHERE NOT (a)-[:SCO]->() \"\n",
    "        \"RETURN distinct a.name as name\")\n",
    "    result_table = [record['name'] for record in tx.run(query)]\n",
    "    return result_table\n",
    "\n",
    "with driver.session() as session:\n",
    "    segments = session.read_transaction(get_top_tier)\n",
    "\n",
    "driver.close()\n",
    "\n",
    "print(segments)"
   ]
  },
  {
   "cell_type": "markdown",
   "metadata": {},
   "source": [
    "## Functions for building taxonomy"
   ]
  },
  {
   "cell_type": "code",
   "execution_count": 14,
   "metadata": {},
   "outputs": [],
   "source": [
    "def get_tier(tx, name, query):\n",
    "    result_table = [record for record in tx.run(query, name=name)]\n",
    "    return result_table\n",
    "\n",
    "def build_tax_df(result):\n",
    "    taxonomy = pd.DataFrame(columns=columns)\n",
    "    for i in range(0,len(result)):\n",
    "        y = 0\n",
    "        for column in list(taxonomy.columns):\n",
    "            taxonomy.loc[i,column] = result[i][tiers[y]]\n",
    "            y = y+1\n",
    "    return taxonomy\n",
    "\n",
    "def build_full_taxonomy(tiers):\n",
    "    taxonomy = pd.DataFrame(columns=columns)\n",
    "\n",
    "    for i in range(0,len(results_list)):\n",
    "        taxonomy = taxonomy.append(build_tax_df(results_list[i]))\n",
    "    \n",
    "    return taxonomy.reset_index().drop(columns=['index'])"
   ]
  },
  {
   "cell_type": "code",
   "execution_count": 101,
   "metadata": {},
   "outputs": [],
   "source": [
    "# build out column names list based on taxonomy maximum length\n",
    "columns = [\"tier_1\"]\n",
    "for i in range(2,max_tax+1):\n",
    "    columns.append(\"tier_\"+str(i))\n",
    "\n",
    "max_tax = 8\n",
    "variables = []\n",
    "name_dict = {}\n",
    "\n",
    "for i in range(0,max_tax):\n",
    "    variables.append(letters[i])\n",
    "    name_dict[variables[i]] = \"null\"\n",
    "variables.append('')\n",
    "\n",
    "x = \"\"\n",
    "query_dict = {}\n",
    "\n",
    "for i in range(1,max_tax+1):\n",
    "    letter = letters[i]\n",
    "    query = (\"MATCH \"+x+\"(a) WHERE a.name = $name \"\n",
    "        \"RETURN distinct a.name as tier_1, \"\n",
    "        \"\"+name_dict['b']+\" as tier_2, \"+name_dict['c']+\" as tier_3, \"+name_dict['d']+\" as tier_4, \"\n",
    "        \"\"+name_dict['e']+\" as tier_5, \"+name_dict['f']+\" as tier_6, \"+name_dict['g']+\" as tier_7, \"\n",
    "        \"\"+name_dict['h']+\" as tier_8\")\n",
    "    x = \"(\" + letter + \")-[:SCO]->\"+x\n",
    "    name_dict[variables[i]] = letter+\".name\"\n",
    "    query_dict[letters[i-1]] = query"
   ]
  },
  {
   "cell_type": "code",
   "execution_count": 114,
   "metadata": {},
   "outputs": [],
   "source": [
    "results_list = []\n",
    "with driver.session() as session:\n",
    "    for Segment_Name in segments:\n",
    "        for i in range(0,max_tax):\n",
    "            result = session.read_transaction(get_tier, Segment_Name, query_dict[letters[i]])\n",
    "            results_list.append(result)\n",
    "    \n",
    "driver.close()\n",
    "\n",
    "taxonomy = build_full_taxonomy(columns)"
   ]
  },
  {
   "cell_type": "code",
   "execution_count": 123,
   "metadata": {
    "scrolled": true
   },
   "outputs": [
    {
     "data": {
      "text/html": [
       "<div>\n",
       "<style scoped>\n",
       "    .dataframe tbody tr th:only-of-type {\n",
       "        vertical-align: middle;\n",
       "    }\n",
       "\n",
       "    .dataframe tbody tr th {\n",
       "        vertical-align: top;\n",
       "    }\n",
       "\n",
       "    .dataframe thead th {\n",
       "        text-align: right;\n",
       "    }\n",
       "</style>\n",
       "<table border=\"1\" class=\"dataframe\">\n",
       "  <thead>\n",
       "    <tr style=\"text-align: right;\">\n",
       "      <th></th>\n",
       "      <th>Tier 1</th>\n",
       "      <th>Tier 2</th>\n",
       "      <th>Tier 3</th>\n",
       "      <th>Tier 4</th>\n",
       "      <th>Tier 5</th>\n",
       "      <th>Tier 6</th>\n",
       "      <th>Tier 7</th>\n",
       "      <th>Tier 8</th>\n",
       "    </tr>\n",
       "  </thead>\n",
       "  <tbody>\n",
       "    <tr>\n",
       "      <th>0</th>\n",
       "      <td>CommercialActivity</td>\n",
       "      <td>None</td>\n",
       "      <td>None</td>\n",
       "      <td>None</td>\n",
       "      <td>None</td>\n",
       "      <td>None</td>\n",
       "      <td>None</td>\n",
       "      <td>None</td>\n",
       "    </tr>\n",
       "    <tr>\n",
       "      <th>1</th>\n",
       "      <td>CommercialActivity</td>\n",
       "      <td>Commerce</td>\n",
       "      <td>None</td>\n",
       "      <td>None</td>\n",
       "      <td>None</td>\n",
       "      <td>None</td>\n",
       "      <td>None</td>\n",
       "      <td>None</td>\n",
       "    </tr>\n",
       "    <tr>\n",
       "      <th>2</th>\n",
       "      <td>Policy</td>\n",
       "      <td>None</td>\n",
       "      <td>None</td>\n",
       "      <td>None</td>\n",
       "      <td>None</td>\n",
       "      <td>None</td>\n",
       "      <td>None</td>\n",
       "      <td>None</td>\n",
       "    </tr>\n",
       "    <tr>\n",
       "      <th>3</th>\n",
       "      <td>Policy</td>\n",
       "      <td>ReportingPolicy</td>\n",
       "      <td>None</td>\n",
       "      <td>None</td>\n",
       "      <td>None</td>\n",
       "      <td>None</td>\n",
       "      <td>None</td>\n",
       "      <td>None</td>\n",
       "    </tr>\n",
       "    <tr>\n",
       "      <th>4</th>\n",
       "      <td>Convention</td>\n",
       "      <td>None</td>\n",
       "      <td>None</td>\n",
       "      <td>None</td>\n",
       "      <td>None</td>\n",
       "      <td>None</td>\n",
       "      <td>None</td>\n",
       "      <td>None</td>\n",
       "    </tr>\n",
       "    <tr>\n",
       "      <th>5</th>\n",
       "      <td>Convention</td>\n",
       "      <td>DividendDistributionMethod</td>\n",
       "      <td>None</td>\n",
       "      <td>None</td>\n",
       "      <td>None</td>\n",
       "      <td>None</td>\n",
       "      <td>None</td>\n",
       "      <td>None</td>\n",
       "    </tr>\n",
       "    <tr>\n",
       "      <th>6</th>\n",
       "      <td>Convention</td>\n",
       "      <td>BusinessDayConvention</td>\n",
       "      <td>None</td>\n",
       "      <td>None</td>\n",
       "      <td>None</td>\n",
       "      <td>None</td>\n",
       "      <td>None</td>\n",
       "      <td>None</td>\n",
       "    </tr>\n",
       "    <tr>\n",
       "      <th>7</th>\n",
       "      <td>Convention</td>\n",
       "      <td>RateBasisConvention</td>\n",
       "      <td>None</td>\n",
       "      <td>None</td>\n",
       "      <td>None</td>\n",
       "      <td>None</td>\n",
       "      <td>None</td>\n",
       "      <td>None</td>\n",
       "    </tr>\n",
       "    <tr>\n",
       "      <th>8</th>\n",
       "      <td>Convention</td>\n",
       "      <td>BusinessDayAdjustment</td>\n",
       "      <td>None</td>\n",
       "      <td>None</td>\n",
       "      <td>None</td>\n",
       "      <td>None</td>\n",
       "      <td>None</td>\n",
       "      <td>None</td>\n",
       "    </tr>\n",
       "    <tr>\n",
       "      <th>9</th>\n",
       "      <td>Convention</td>\n",
       "      <td>BusinessRecurrenceIntervalConvention</td>\n",
       "      <td>None</td>\n",
       "      <td>None</td>\n",
       "      <td>None</td>\n",
       "      <td>None</td>\n",
       "      <td>None</td>\n",
       "      <td>None</td>\n",
       "    </tr>\n",
       "  </tbody>\n",
       "</table>\n",
       "</div>"
      ],
      "text/plain": [
       "               Tier 1                                Tier 2 Tier 3 Tier 4  \\\n",
       "0  CommercialActivity                                  None   None   None   \n",
       "1  CommercialActivity                              Commerce   None   None   \n",
       "2              Policy                                  None   None   None   \n",
       "3              Policy                       ReportingPolicy   None   None   \n",
       "4          Convention                                  None   None   None   \n",
       "5          Convention            DividendDistributionMethod   None   None   \n",
       "6          Convention                 BusinessDayConvention   None   None   \n",
       "7          Convention                   RateBasisConvention   None   None   \n",
       "8          Convention                 BusinessDayAdjustment   None   None   \n",
       "9          Convention  BusinessRecurrenceIntervalConvention   None   None   \n",
       "\n",
       "  Tier 5 Tier 6 Tier 7 Tier 8  \n",
       "0   None   None   None   None  \n",
       "1   None   None   None   None  \n",
       "2   None   None   None   None  \n",
       "3   None   None   None   None  \n",
       "4   None   None   None   None  \n",
       "5   None   None   None   None  \n",
       "6   None   None   None   None  \n",
       "7   None   None   None   None  \n",
       "8   None   None   None   None  \n",
       "9   None   None   None   None  "
      ]
     },
     "execution_count": 123,
     "metadata": {},
     "output_type": "execute_result"
    }
   ],
   "source": [
    "taxonomy.head(10)"
   ]
  },
  {
   "cell_type": "markdown",
   "metadata": {},
   "source": [
    "## Functions for building relationship map"
   ]
  },
  {
   "cell_type": "code",
   "execution_count": 117,
   "metadata": {},
   "outputs": [],
   "source": [
    "def get_unique_elements(taxonomy):\n",
    "    node_list = []\n",
    "    for column in list(taxonomy.columns):\n",
    "        for element in list(taxonomy[column].unique()):\n",
    "            node_list.append(element)\n",
    "    node_list = set(node_list)\n",
    "    return list(node_list)\n",
    "\n",
    "def get_relationship(tx, source_name, subject_name):\n",
    "    query = (\n",
    "        \"MATCH (c:Class {name:$source_name})<-[:DOMAIN]-(r:Relationship)-[:RANGE]->(q:Class {name:$subject_name}) \"\n",
    "        \"RETURN r.name as relationship\")\n",
    "    results = [record['relationship'] for record in tx.run(query, source_name=source_name, subject_name=subject_name)]\n",
    "    return results\n",
    "\n",
    "def get_all_direct_relationships(tx):\n",
    "    query = (\n",
    "        \"MATCH p=(src:Class)<-[:DOMAIN]-(r:Relationship)-[:RANGE]->(sub:Class) \"\n",
    "        \"return src.name as source, r.name as relation, sub.name as subject\")\n",
    "    results = [record for record in tx.run(query)]\n",
    "    return results"
   ]
  },
  {
   "cell_type": "code",
   "execution_count": 119,
   "metadata": {},
   "outputs": [],
   "source": [
    "node_list = get_unique_elements(taxonomy)\n",
    "possibilities = list(itertools.combinations(node_list, 2))\n",
    "map_df = pd.DataFrame(possibilities, columns=['Source','Subject'])"
   ]
  },
  {
   "cell_type": "code",
   "execution_count": 120,
   "metadata": {},
   "outputs": [],
   "source": [
    "with driver.session() as session:\n",
    "    all_relations = session.read_transaction(get_all_direct_relationships)\n",
    "driver.close()"
   ]
  },
  {
   "cell_type": "code",
   "execution_count": 121,
   "metadata": {},
   "outputs": [],
   "source": [
    "relations_df = pd.DataFrame(columns=['source','relation','subject'])\n",
    "for i in range(0,len(all_relations)):\n",
    "    relations_df.loc[i,'source'] = all_relations[i]['source']\n",
    "    relations_df.loc[i,'relation'] = all_relations[i]['relation']\n",
    "    relations_df.loc[i,'subject'] = all_relations[i]['subject']"
   ]
  },
  {
   "cell_type": "code",
   "execution_count": 124,
   "metadata": {},
   "outputs": [
    {
     "data": {
      "text/html": [
       "<div>\n",
       "<style scoped>\n",
       "    .dataframe tbody tr th:only-of-type {\n",
       "        vertical-align: middle;\n",
       "    }\n",
       "\n",
       "    .dataframe tbody tr th {\n",
       "        vertical-align: top;\n",
       "    }\n",
       "\n",
       "    .dataframe thead th {\n",
       "        text-align: right;\n",
       "    }\n",
       "</style>\n",
       "<table border=\"1\" class=\"dataframe\">\n",
       "  <thead>\n",
       "    <tr style=\"text-align: right;\">\n",
       "      <th></th>\n",
       "      <th>source</th>\n",
       "      <th>relation</th>\n",
       "      <th>subject</th>\n",
       "    </tr>\n",
       "  </thead>\n",
       "  <tbody>\n",
       "    <tr>\n",
       "      <th>0</th>\n",
       "      <td>Ownership</td>\n",
       "      <td>hasOwningParty</td>\n",
       "      <td>Owner</td>\n",
       "    </tr>\n",
       "    <tr>\n",
       "      <th>1</th>\n",
       "      <td>RatingParty</td>\n",
       "      <td>producesRatingsFor</td>\n",
       "      <td>RatingIssuer</td>\n",
       "    </tr>\n",
       "    <tr>\n",
       "      <th>2</th>\n",
       "      <td>Contract</td>\n",
       "      <td>hasContractParty</td>\n",
       "      <td>ContractParty</td>\n",
       "    </tr>\n",
       "    <tr>\n",
       "      <th>3</th>\n",
       "      <td>Option</td>\n",
       "      <td>hasExerciseTerms</td>\n",
       "      <td>ExerciseTerms</td>\n",
       "    </tr>\n",
       "    <tr>\n",
       "      <th>4</th>\n",
       "      <td>Corporation</td>\n",
       "      <td>isConstitutedBy</td>\n",
       "      <td>Constitution</td>\n",
       "    </tr>\n",
       "    <tr>\n",
       "      <th>5</th>\n",
       "      <td>Exchange</td>\n",
       "      <td>operatesInCountry</td>\n",
       "      <td>Country</td>\n",
       "    </tr>\n",
       "    <tr>\n",
       "      <th>6</th>\n",
       "      <td>Payment</td>\n",
       "      <td>fulfillsObligation</td>\n",
       "      <td>PaymentObligation</td>\n",
       "    </tr>\n",
       "    <tr>\n",
       "      <th>7</th>\n",
       "      <td>Security</td>\n",
       "      <td>mayBeTradedIn</td>\n",
       "      <td>Exchange</td>\n",
       "    </tr>\n",
       "    <tr>\n",
       "      <th>8</th>\n",
       "      <td>Buyer</td>\n",
       "      <td>buysFrom</td>\n",
       "      <td>Seller</td>\n",
       "    </tr>\n",
       "    <tr>\n",
       "      <th>9</th>\n",
       "      <td>Security</td>\n",
       "      <td>isRegisteredWith</td>\n",
       "      <td>RegistrationAuthority</td>\n",
       "    </tr>\n",
       "  </tbody>\n",
       "</table>\n",
       "</div>"
      ],
      "text/plain": [
       "        source            relation                subject\n",
       "0    Ownership      hasOwningParty                  Owner\n",
       "1  RatingParty  producesRatingsFor           RatingIssuer\n",
       "2     Contract    hasContractParty          ContractParty\n",
       "3       Option    hasExerciseTerms          ExerciseTerms\n",
       "4  Corporation     isConstitutedBy           Constitution\n",
       "5     Exchange   operatesInCountry                Country\n",
       "6      Payment  fulfillsObligation      PaymentObligation\n",
       "7     Security       mayBeTradedIn               Exchange\n",
       "8        Buyer            buysFrom                 Seller\n",
       "9     Security    isRegisteredWith  RegistrationAuthority"
      ]
     },
     "execution_count": 124,
     "metadata": {},
     "output_type": "execute_result"
    }
   ],
   "source": [
    "relations_df.head(10)"
   ]
  },
  {
   "cell_type": "code",
   "execution_count": null,
   "metadata": {},
   "outputs": [],
   "source": []
  }
 ],
 "metadata": {
  "kernelspec": {
   "display_name": "Python 3",
   "language": "python",
   "name": "python3"
  },
  "language_info": {
   "codemirror_mode": {
    "name": "ipython",
    "version": 3
   },
   "file_extension": ".py",
   "mimetype": "text/x-python",
   "name": "python",
   "nbconvert_exporter": "python",
   "pygments_lexer": "ipython3",
   "version": "3.8.3"
  }
 },
 "nbformat": 4,
 "nbformat_minor": 4
}
